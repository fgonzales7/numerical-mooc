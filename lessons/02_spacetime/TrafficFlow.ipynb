{
 "metadata": {
  "name": "",
  "signature": "sha256:a89d63c956f0fd65d5ee37c24f7f1fd4c35957919fa5d2c9cd9f0e49e4bb48d3"
 },
 "nbformat": 3,
 "nbformat_minor": 0,
 "worksheets": [
  {
   "cells": [
    {
     "cell_type": "code",
     "collapsed": false,
     "input": [
      "import numpy as np\n",
      "import matplotlib.pyplot as plt\n",
      "%matplotlib inline"
     ],
     "language": "python",
     "metadata": {},
     "outputs": [],
     "prompt_number": 12
    },
    {
     "cell_type": "code",
     "collapsed": false,
     "input": [
      "#constants\n",
      "vmax = 80  #max velocity in km/hr\n",
      "L = 11. # stretch of road in km\n",
      "pmax= 250  #maximum density of traffic in cars/km\n",
      "nx = 51\n",
      "dt= .001   #delta t in hours (3.6 seconds)\n",
      "dx= L/nx"
     ],
     "language": "python",
     "metadata": {},
     "outputs": [],
     "prompt_number": 13
    },
    {
     "cell_type": "code",
     "collapsed": false,
     "input": [
      "print dx"
     ],
     "language": "python",
     "metadata": {},
     "outputs": [
      {
       "output_type": "stream",
       "stream": "stdout",
       "text": [
        "0.21568627451\n"
       ]
      }
     ],
     "prompt_number": 14
    },
    {
     "cell_type": "code",
     "collapsed": false,
     "input": [
      "#number of steps for 3 minutes\n",
      "nt = 50"
     ],
     "language": "python",
     "metadata": {},
     "outputs": [],
     "prompt_number": 15
    },
    {
     "cell_type": "code",
     "collapsed": false,
     "input": [
      "#initial conditions for part A simulation\n",
      "x = np.linspace(0,L,nx)\n",
      "p = np.ones(nx)*10\n",
      "p[10:20] = 50"
     ],
     "language": "python",
     "metadata": {},
     "outputs": [],
     "prompt_number": 16
    },
    {
     "cell_type": "code",
     "collapsed": false,
     "input": [
      "#plot of initial conditions for part A\n",
      "plt.plot(x, p, ls='--', lw=3)\n",
      "plt.ylim(10,70)"
     ],
     "language": "python",
     "metadata": {},
     "outputs": [
      {
       "metadata": {},
       "output_type": "pyout",
       "prompt_number": 18,
       "text": [
        "(10, 70)"
       ]
      },
      {
       "metadata": {},
       "output_type": "display_data",
       "png": "[encoded data removed]",
       "text": [
        "<matplotlib.figure.Figure at 0xa2bc2b0>"
       ]
      }
     ],
     "prompt_number": 18
    },
    {
     "cell_type": "code",
     "collapsed": false,
     "input": [
      "pn = np.ones(nx)*10\n",
      "for n in range(nt):\n",
      "    pn = p.copy()\n",
      "    p[1:]= pn[1:] - (vmax - ((2*vmax)/pmax)*pn[1:])*dt/dx*(pn[1:] -pn[0:-1])\n",
      "    p[0]= 10"
     ],
     "language": "python",
     "metadata": {},
     "outputs": [],
     "prompt_number": 20
    },
    {
     "cell_type": "code",
     "collapsed": false,
     "input": [
      "print p"
     ],
     "language": "python",
     "metadata": {},
     "outputs": [
      {
       "output_type": "stream",
       "stream": "stdout",
       "text": [
        "[ 10.          10.          10.          10.          10.          10.          10.\n",
        "  10.          10.          10.          10.          10.00000011\n",
        "  10.00000157  10.00001543  10.00011142  10.00063212  10.00293461\n",
        "  10.0114677   10.03850972  10.11291436  10.29277573  10.6783954\n",
        "  11.41731273  12.69077566  14.67503201  17.48242723  21.10160589\n",
        "  25.36348988  29.95244782  34.46174379  38.47080186  41.61342144\n",
        "  43.61662874  44.31136311  43.63251499  41.62510709  38.45744885\n",
        "  34.42487345  29.9240627   25.39188385  21.22422828  17.70407739\n",
        "  14.96478282  12.99748228  11.69224651  10.89181085  10.43800571\n",
        "  10.200168    10.08497958  10.03345798  10.01219411]\n"
       ]
      }
     ],
     "prompt_number": 21
    },
    {
     "cell_type": "code",
     "collapsed": false,
     "input": [
      "plt.plot(x,p, ls='--', lw=3)\n",
      "plt.ylim(5,60)\n",
      "plt.xlabel('distance')\n",
      "plt.ylabel('traffic density')"
     ],
     "language": "python",
     "metadata": {},
     "outputs": [
      {
       "metadata": {},
       "output_type": "pyout",
       "prompt_number": 24,
       "text": [
        "<matplotlib.text.Text at 0xa539048>"
       ]
      },
      {
       "metadata": {},
       "output_type": "display_data",
       "png": "[encoded data removed]",
       "text": [
        "<matplotlib.figure.Figure at 0xa603f60>"
       ]
      }
     ],
     "prompt_number": 24
    },
    {
     "cell_type": "code",
     "collapsed": false,
     "input": [
      "velocity= (vmax*(1-p/pmax))*0.278   #get velocity and convert velocity to m/s"
     ],
     "language": "python",
     "metadata": {},
     "outputs": [],
     "prompt_number": 25
    },
    {
     "cell_type": "code",
     "collapsed": false,
     "input": [
      "print velocity"
     ],
     "language": "python",
     "metadata": {},
     "outputs": [
      {
       "output_type": "stream",
       "stream": "stdout",
       "text": [
        "[ 21.3504      21.3504      21.3504      21.3504      21.3504      21.3504\n",
        "  21.3504      21.3504      21.3504      21.3504      21.3504      21.35039999\n",
        "  21.35039986  21.35039863  21.35039009  21.35034377  21.35013894\n",
        "  21.34937983  21.34697417  21.34035514  21.32435467  21.29004995\n",
        "  21.22431586  21.1110286   20.93450915  20.68476327  20.36280114\n",
        "  19.98366394  19.57543024  19.17428327  18.81763747  18.53807003\n",
        "  18.35986471  18.29806114  18.35845147  18.53703047  18.81882535\n",
        "  19.17756326  19.57795538  19.98113801  20.35189265  20.66504528\n",
        "  20.90873292  21.08374398  21.19985775  21.27106451  21.31143501\n",
        "  21.33259305  21.34284022  21.34742358  21.34931521]\n"
       ]
      }
     ],
     "prompt_number": 26
    },
    {
     "cell_type": "code",
     "collapsed": false,
     "input": [
      "avg_velocity= np.average(velocity)\n",
      "print avg_velocity"
     ],
     "language": "python",
     "metadata": {},
     "outputs": [
      {
       "output_type": "stream",
       "stream": "stdout",
       "text": [
        "20.6526847441\n"
       ]
      }
     ],
     "prompt_number": 27
    },
    {
     "cell_type": "code",
     "collapsed": false,
     "input": [],
     "language": "python",
     "metadata": {},
     "outputs": []
    }
   ],
   "metadata": {}
  }
 ]
}