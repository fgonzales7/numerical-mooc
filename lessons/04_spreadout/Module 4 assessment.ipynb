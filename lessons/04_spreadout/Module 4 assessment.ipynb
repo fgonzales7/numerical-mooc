{
 "metadata": {
  "name": "",
  "signature": "sha256:7085f4e6911257a279bb5f422e0e94397b78d7b892d5de23ddb6a0ce82f48fcf"
 },
 "nbformat": 3,
 "nbformat_minor": 0,
 "worksheets": [
  {
   "cells": [
    {
     "cell_type": "code",
     "collapsed": false,
     "input": [
      "import numpy as np\n",
      "import matplotlib.pyplot as plt\n",
      "import matplotlib.cm as cm\n",
      "%matplotlib inline"
     ],
     "language": "python",
     "metadata": {},
     "outputs": [],
     "prompt_number": 1
    },
    {
     "cell_type": "code",
     "collapsed": false,
     "input": [
      "#initial parameters\n",
      "n=192\n",
      "\n",
      "Du, Dv, F, k= 0.00016, 0.00008, 0.035, 0.065\n",
      "\n",
      "dh= 5./(n-1)\n",
      "\n",
      "T= 8000\n",
      "\n",
      "dt= .9 * dh**2 / (4*max(Du,Dv))\n",
      "\n",
      "nt= int(T/dt)"
     ],
     "language": "python",
     "metadata": {},
     "outputs": [],
     "prompt_number": 2
    },
    {
     "cell_type": "code",
     "collapsed": false,
     "input": [
      "print nt"
     ],
     "language": "python",
     "metadata": {},
     "outputs": [
      {
       "output_type": "stream",
       "stream": "stdout",
       "text": [
        "8301\n"
       ]
      }
     ],
     "prompt_number": 3
    },
    {
     "cell_type": "code",
     "collapsed": false,
     "input": [
      "#load initial conditions\n",
      "uvinitial= np.load('./data/uvinitial.npz')\n",
      "U= uvinitial['U']\n",
      "V= uvinitial['V']"
     ],
     "language": "python",
     "metadata": {},
     "outputs": [],
     "prompt_number": 4
    },
    {
     "cell_type": "code",
     "collapsed": false,
     "input": [
      "print U"
     ],
     "language": "python",
     "metadata": {},
     "outputs": [
      {
       "output_type": "stream",
       "stream": "stdout",
       "text": [
        "[[ 1.03341932  1.00909902  1.03523907 ...,  1.01236     1.02769296\n",
        "   1.01185515]\n",
        " [ 1.02049366  1.03874603  1.03186003 ...,  1.00917594  1.00648275\n",
        "   1.01929723]\n",
        " [ 1.0297385   1.02874589  1.02488765 ...,  1.0345737   1.00195443\n",
        "   1.03189674]\n",
        " ..., \n",
        " [ 1.03851006  1.01833226  1.00260628 ...,  1.00514165  1.04292736\n",
        "   1.0090857 ]\n",
        " [ 1.03951143  1.0425582   1.03609776 ...,  1.00643229  1.04094253\n",
        "   1.03869138]\n",
        " [ 1.01132752  1.00554757  1.00241105 ...,  1.04435044  1.02683595\n",
        "   1.01239924]]\n"
       ]
      }
     ],
     "prompt_number": 5
    },
    {
     "cell_type": "code",
     "collapsed": false,
     "input": [
      "def fcts(U, V, Du, Dv, F, k, dh, dt, nt):\n",
      "\n",
      "    for n in range(nt):\n",
      "        Un= U.copy()\n",
      "        Vn= V.copy()\n",
      "    \n",
      "        U[1:-1,1:-1]= Un[1:-1,1:-1]+ Du*(dt/dh**2*(Un[2:,1:-1]-2*Un[1:-1,1:-1]+Un[:-2,1:-1]) +\\\n",
      "                                     dt/dh**2*(Un[1:-1,2:]-2*Un[1:-1,1:-1]+Un[1:-1,:-2])) -\\\n",
      "                                     dt*Un[1:-1,1:-1]*(Vn[1:-1,1:-1])**2 +\\\n",
      "                                     dt*F*(1-Un[1:-1,1:-1])\n",
      "        V[1:-1,1:-1]= Vn[1:-1,1:-1]+ Dv*(dt/dh**2*(Vn[2:,1:-1]-2*Vn[1:-1,1:-1]+Vn[:-2,1:-1]) +\\\n",
      "                                     dt/dh**2*(Vn[1:-1,2:]-2*Vn[1:-1,1:-1]+Vn[1:-1,:-2])) +\\\n",
      "                                     dt*Un[1:-1,1:-1]*(Vn[1:-1,1:-1])**2 -\\\n",
      "                                     (F+k)*Vn[1:-1,1:-1]\n",
      "    \n",
      "        #Enforce Neummann BCs\n",
      "        U[-1,:]= U[-2,:]\n",
      "        U[:,-1]= U[:,-2]\n",
      "        U[1,:]= U[2,:]\n",
      "        U[:,1]= U[:,2]\n",
      "    \n",
      "        V[-1,:]= V[-2,:]\n",
      "        V[:,-1]= V[:,-2]\n",
      "        V[1,:]= V[2,:]\n",
      "        V[:,1]= V[:,2]\n",
      "    \n",
      "    return U, V"
     ],
     "language": "python",
     "metadata": {},
     "outputs": [],
     "prompt_number": 6
    },
    {
     "cell_type": "code",
     "collapsed": false,
     "input": [
      "uans, vans= fcts(U, V, Du, Dv, F, k, dh, dt, nt)"
     ],
     "language": "python",
     "metadata": {},
     "outputs": [],
     "prompt_number": 7
    },
    {
     "cell_type": "code",
     "collapsed": false,
     "input": [
      "print uans"
     ],
     "language": "python",
     "metadata": {},
     "outputs": [
      {
       "output_type": "stream",
       "stream": "stdout",
       "text": [
        "[[ 1.03341932  1.03523907  1.03523907 ...,  1.01236     1.02769296\n",
        "   1.02769296]\n",
        " [ 1.0297385   1.          1.         ...,  1.          1.          1.        ]\n",
        " [ 1.0297385   1.          1.         ...,  1.          1.          1.        ]\n",
        " ..., \n",
        " [ 1.03851006  1.          1.         ...,  1.          1.          1.        ]\n",
        " [ 1.03951143  1.          1.         ...,  1.          1.          1.        ]\n",
        " [ 1.03951143  1.          1.         ...,  1.          1.          1.        ]]\n"
       ]
      }
     ],
     "prompt_number": 8
    },
    {
     "cell_type": "code",
     "collapsed": false,
     "input": [
      "print uans[100,::40]"
     ],
     "language": "python",
     "metadata": {},
     "outputs": [
      {
       "output_type": "stream",
       "stream": "stdout",
       "text": [
        "[ 1.0425956  1.         1.         1.         1.       ]\n"
       ]
      }
     ],
     "prompt_number": 9
    },
    {
     "cell_type": "code",
     "collapsed": false,
     "input": [
      "j"
     ],
     "language": "python",
     "metadata": {},
     "outputs": []
    }
   ],
   "metadata": {}
  }
 ]
}