{
 "metadata": {
  "name": "",
  "signature": "sha256:76c6e3a405ae951c606b47a9f3817f10f11297218d24b3ae4daa4b59e3e82da6"
 },
 "nbformat": 3,
 "nbformat_minor": 0,
 "worksheets": [
  {
   "cells": [
    {
     "cell_type": "code",
     "collapsed": false,
     "input": [
      "import numpy as np\n",
      "import matplotlib.pyplot as plt"
     ],
     "language": "python",
     "metadata": {},
     "outputs": [],
     "prompt_number": 1
    },
    {
     "cell_type": "code",
     "collapsed": false,
     "input": [
      "#parameters\n",
      "\n",
      "Tf= 0.01\n",
      "dt= 0.0002\n",
      "nt= int(Tf/dt)\n",
      "nx= 81\n",
      "dx= 0.25\n",
      "gamma= 1.4\n",
      "\n",
      "#initial conditions\n",
      "rho_left= 1\n",
      "u_left= 0\n",
      "p_left= 100E3\n",
      "rho_right= 0.125\n",
      "u_right= 0\n",
      "p_right= 10E3"
     ],
     "language": "python",
     "metadata": {},
     "outputs": [],
     "prompt_number": 2
    },
    {
     "cell_type": "code",
     "collapsed": false,
     "input": [
      "#initializing u vector\n",
      "u_init= np.zeros((3,nx))\n",
      "u_init[0,nx/2.:]= rho_right\n",
      "u_init[1,nx/2.:]= u_right\n",
      "u_init[2,nx/2.:]= p_right/(gamma-1)\n",
      "u_init[0,:nx/2.]= rho_left\n",
      "u_init[1,:nx/2.]= u_left\n",
      "u_init[2,:nx/2.]= p_left/(gamma-1)"
     ],
     "language": "python",
     "metadata": {},
     "outputs": [],
     "prompt_number": 3
    },
    {
     "cell_type": "code",
     "collapsed": false,
     "input": [
      "ustar= np.empty((3,nx,nt))\n",
      "ustar[:,:,0]= u_init[:,:]"
     ],
     "language": "python",
     "metadata": {},
     "outputs": [],
     "prompt_number": 4
    },
    {
     "cell_type": "code",
     "collapsed": false,
     "input": [
      "print ustar[2,:,0]"
     ],
     "language": "python",
     "metadata": {},
     "outputs": [
      {
       "output_type": "stream",
       "stream": "stdout",
       "text": [
        "[ 250000.  250000.  250000.  250000.  250000.  250000.  250000.  250000.\n",
        "  250000.  250000.  250000.  250000.  250000.  250000.  250000.  250000.\n",
        "  250000.  250000.  250000.  250000.  250000.  250000.  250000.  250000.\n",
        "  250000.  250000.  250000.  250000.  250000.  250000.  250000.  250000.\n",
        "  250000.  250000.  250000.  250000.  250000.  250000.  250000.  250000.\n",
        "   25000.   25000.   25000.   25000.   25000.   25000.   25000.   25000.\n",
        "   25000.   25000.   25000.   25000.   25000.   25000.   25000.   25000.\n",
        "   25000.   25000.   25000.   25000.   25000.   25000.   25000.   25000.\n",
        "   25000.   25000.   25000.   25000.   25000.   25000.   25000.   25000.\n",
        "   25000.   25000.   25000.   25000.   25000.   25000.   25000.   25000.\n",
        "   25000.]\n"
       ]
      }
     ],
     "prompt_number": 5
    },
    {
     "cell_type": "code",
     "collapsed": false,
     "input": [
      "def f(u):\n",
      "    f = np.array([u[1],u[1]**2/u[0]+(gamma-1)*(u[2]-.5*u[1]**2/u[0]),(u[2]+(gamma-1)*(u[2]-.5*u[1]**2/u[0]))*u[1]/u[0]])\n",
      "    return f"
     ],
     "language": "python",
     "metadata": {},
     "outputs": [],
     "prompt_number": 6
    },
    {
     "cell_type": "code",
     "collapsed": false,
     "input": [
      "def rich(ust,nx,nt,dt,dx):\n",
      "    un = ust[:,:,0]    \n",
      "    ustarplus = np.zeros((3,nx))\n",
      "    ustarminus = np.zeros((3,nx))\n",
      "    \n",
      "    for i in range(nt):\n",
      "        ustarplus[:,0:-1] = 0.5*(un[:,1:]+un[:,0:-1])-0.5*dt/dx*(f(un[:,1:])-f(un[:,0:-1]))\n",
      "        ustarminus[:,1:] = 0.5*(un[:,1:]+un[:,0:-1])-0.5*dt/dx*(f(un[:,1:])-f(un[:,0:-1]))\n",
      "        un[:,1:-1] = un[:,1:-1]-dt/dx*(f(ustarplus[:,1:-1])-f(ustarminus[:,1:-1]))\n",
      "              \n",
      "        ust[:,:,i] = un[:,:]\n",
      "        \n",
      "    return ust"
     ],
     "language": "python",
     "metadata": {},
     "outputs": [],
     "prompt_number": 7
    },
    {
     "cell_type": "code",
     "collapsed": false,
     "input": [
      "ans= rich(ustar,nx,nt,dt,dx)"
     ],
     "language": "python",
     "metadata": {},
     "outputs": [],
     "prompt_number": 8
    },
    {
     "cell_type": "code",
     "collapsed": false,
     "input": [
      "u_one= ans[0,50,-1]\n",
      "u_two= ans[1,50,-1]\n",
      "u_three= ans[2,50,-1]"
     ],
     "language": "python",
     "metadata": {},
     "outputs": [],
     "prompt_number": 9
    },
    {
     "cell_type": "code",
     "collapsed": false,
     "input": [
      "print u_one\n",
      "print u_two\n",
      "print u_three"
     ],
     "language": "python",
     "metadata": {},
     "outputs": [
      {
       "output_type": "stream",
       "stream": "stdout",
       "text": [
        "0.374691402648\n",
        "109.639002697\n",
        "91668.0403769\n"
       ]
      }
     ],
     "prompt_number": 10
    },
    {
     "cell_type": "code",
     "collapsed": false,
     "input": [
      "density= u_one\n",
      "velocity= u_two/u_one\n",
      "pressure= (gamma-1)*(u_three-.5*(u_one*velocity**2))"
     ],
     "language": "python",
     "metadata": {},
     "outputs": [],
     "prompt_number": 11
    },
    {
     "cell_type": "code",
     "collapsed": false,
     "input": [
      "print density\n",
      "print velocity\n",
      "print pressure"
     ],
     "language": "python",
     "metadata": {},
     "outputs": [
      {
       "output_type": "stream",
       "stream": "stdout",
       "text": [
        "0.374691402648\n",
        "292.611471527\n",
        "30250.8901676\n"
       ]
      }
     ],
     "prompt_number": 12
    },
    {
     "cell_type": "code",
     "collapsed": false,
     "input": [],
     "language": "python",
     "metadata": {},
     "outputs": []
    }
   ],
   "metadata": {}
  }
 ]
}