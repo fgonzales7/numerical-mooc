{
 "metadata": {
  "name": "",
  "signature": "sha256:5d62c89ddcea59a76c4a590544e8046d2639410003f06fac76841da3cd29e87f"
 },
 "nbformat": 3,
 "nbformat_minor": 0,
 "worksheets": [
  {
   "cells": [
    {
     "cell_type": "code",
     "collapsed": false,
     "input": [
      "import numpy\n",
      "import matplotlib.pyplot as plt"
     ],
     "language": "python",
     "metadata": {},
     "outputs": [],
     "prompt_number": 1
    },
    {
     "cell_type": "code",
     "collapsed": false,
     "input": [
      "from math import sin,cos,log,ceil,radians"
     ],
     "language": "python",
     "metadata": {},
     "outputs": [],
     "prompt_number": 2
    },
    {
     "cell_type": "code",
     "collapsed": false,
     "input": [
      "from matplotlib import rcParams\n",
      "rcParams['font.family']='serif'\n",
      "rcParams['font.size']= 16"
     ],
     "language": "python",
     "metadata": {},
     "outputs": [],
     "prompt_number": 3
    },
    {
     "cell_type": "code",
     "collapsed": false,
     "input": [
      "%matplotlib inline"
     ],
     "language": "python",
     "metadata": {},
     "outputs": [],
     "prompt_number": 4
    },
    {
     "cell_type": "code",
     "collapsed": false,
     "input": [
      "g=9.8\n",
      "v_t=4.9\n",
      "L_D=5.0\n",
      "\n",
      "v0=v_t\n",
      "theta0=radians(0.0)\n",
      "x0=0.0\n",
      "y0=1.75"
     ],
     "language": "python",
     "metadata": {},
     "outputs": [],
     "prompt_number": 6
    },
    {
     "cell_type": "code",
     "collapsed": false,
     "input": [
      "T=10.0\n",
      "dt=0.01\n",
      "N=int(T/dt)+1\n",
      "t=numpy.linspace(0.0,T,N)"
     ],
     "language": "python",
     "metadata": {},
     "outputs": [],
     "prompt_number": 7
    },
    {
     "cell_type": "code",
     "collapsed": false,
     "input": [
      "def f(u):\n",
      "    v=u[0]\n",
      "    theta=u[1]\n",
      "    x=u[2]\n",
      "    y=u[3]\n",
      "    return numpy.array([-g*sin(theta)-1/L_D*g/v_t**2*v**2,\n",
      "                        -g*cos(theta)/v+g/v_t**2*v,\n",
      "                        v*cos(theta),\n",
      "                        v*sin(theta)])"
     ],
     "language": "python",
     "metadata": {},
     "outputs": [],
     "prompt_number": 8
    },
    {
     "cell_type": "code",
     "collapsed": false,
     "input": [
      "def euler_step(u,f,dt):\n",
      "    return u+dt*f(u)"
     ],
     "language": "python",
     "metadata": {},
     "outputs": [],
     "prompt_number": 9
    },
    {
     "cell_type": "code",
     "collapsed": false,
     "input": [
      "u=numpy.empty((N,4))\n",
      "u[0]=numpy.array([v0,theta0,x0,y0])\n",
      "for n in range(N-1):\n",
      "     u[n+1]=euler_step(u[n],f,dt)\n",
      "     if u[n,3] <= 0:\n",
      "       break"
     ],
     "language": "python",
     "metadata": {},
     "outputs": [],
     "prompt_number": 10
    },
    {
     "cell_type": "code",
     "collapsed": false,
     "input": [
      "for m in range(len(u)):\n",
      "    if u[m,3]<= 0:\n",
      "        i=m\n",
      "        break    "
     ],
     "language": "python",
     "metadata": {},
     "outputs": [],
     "prompt_number": 11
    },
    {
     "cell_type": "code",
     "collapsed": false,
     "input": [
      "print i"
     ],
     "language": "python",
     "metadata": {},
     "outputs": [
      {
       "output_type": "stream",
       "stream": "stdout",
       "text": [
        "186\n"
       ]
      }
     ],
     "prompt_number": 12
    },
    {
     "cell_type": "code",
     "collapsed": false,
     "input": [
      "x=u[0:i,2]\n",
      "y=u[0:i,3]"
     ],
     "language": "python",
     "metadata": {},
     "outputs": [],
     "prompt_number": 13
    },
    {
     "cell_type": "code",
     "collapsed": false,
     "input": [
      "plt.figure(figsize=(8,6))\n",
      "plt.grid(True)\n",
      "plt.xlabel(r'x', fontsize=18)\n",
      "plt.ylabel(r'y', fontsize=18)\n",
      "plt.title('paper airplane challenge')\n",
      "plt.plot(x,y,'b-', lw=2)"
     ],
     "language": "python",
     "metadata": {},
     "outputs": [
      {
       "metadata": {},
       "output_type": "pyout",
       "prompt_number": 14,
       "text": [
        "[<matplotlib.lines.Line2D at 0xa56c4e0>]"
       ]
      },
      {
       "metadata": {},
       "output_type": "display_data",
       "png": "[encoded data removed]",
       "text": [
        "<matplotlib.figure.Figure at 0xa56c048>"
       ]
      }
     ],
     "prompt_number": 14
    },
    {
     "cell_type": "code",
     "collapsed": false,
     "input": [
      "print x"
     ],
     "language": "python",
     "metadata": {},
     "outputs": [
      {
       "output_type": "stream",
       "stream": "stdout",
       "text": [
        "[ 0.          0.049       0.097804    0.14641356  0.19483039  0.24305631\n",
        "  0.29109327  0.33894336  0.38660874  0.43409172  0.48139471  0.52852019\n",
        "  0.57547077  0.62224913  0.66885805  0.71530037  0.76157902  0.80769702\n",
        "  0.85365743  0.89946339  0.9451181   0.99062481  1.03598683  1.08120752\n",
        "  1.12629028  1.17123857  1.21605587  1.2607457   1.30531163  1.34975725\n",
        "  1.39408617  1.43830204  1.48240853  1.52640931  1.57030811  1.61410863\n",
        "  1.65781462  1.70142982  1.74495798  1.78840287  1.83176825  1.8750579\n",
        "  1.9182756   1.96142511  2.0045102   2.04753466  2.09050224  2.1334167\n",
        "  2.17628179  2.21910125  2.26187881  2.3046182   2.34732311  2.38999724\n",
        "  2.43264427  2.47526784  2.5178716   2.56045916  2.60303412  2.64560005\n",
        "  2.6881605   2.73071899  2.77327902  2.81584405  2.85841752  2.90100284\n",
        "  2.94360338  2.98622247  3.02886341  3.07152948  3.1142239   3.15694985\n",
        "  3.19971047  3.24250887  3.2853481   3.32823116  3.37116102  3.41414058\n",
        "  3.45717271  3.5002602   3.5434058   3.58661221  3.62988206  3.67321792\n",
        "  3.71662231  3.76009768  3.80364641  3.84727081  3.89097314  3.93475558\n",
        "  3.97862024  4.02256915  4.06660428  4.11072751  4.15494066  4.19924546\n",
        "  4.24364355  4.28813653  4.33272586  4.37741297  4.42219917  4.46708571\n",
        "  4.51207373  4.55716431  4.60235842  4.64765696  4.69306071  4.73857041\n",
        "  4.78418667  4.82991002  4.8757409   4.92167967  4.96772659  5.01388183\n",
        "  5.06014546  5.10651748  5.15299779  5.19958619  5.24628241  5.29308607\n",
        "  5.33999673  5.38701383  5.43413674  5.48136476  5.52869708  5.57613281\n",
        "  5.623671    5.67131059  5.71905046  5.76688941  5.81482616  5.86285935\n",
        "  5.91098756  5.95920929  6.00752297  6.05592697  6.10441959  6.15299908\n",
        "  6.20166359  6.25041127  6.29924016  6.34814828  6.39713358  6.44619397\n",
        "  6.49532732  6.54453143  6.59380409  6.64314303  6.69254595  6.74201052\n",
        "  6.79153437  6.84111511  6.89075032  6.94043755  6.99017434  7.03995821\n",
        "  7.08978666  7.13965719  7.18956726  7.23951437  7.28949597  7.33950953\n",
        "  7.38955251  7.43962239  7.48971664  7.53983275  7.58996819  7.64012049\n",
        "  7.69028715  7.74046572  7.79065375  7.84084882  7.89104853  7.94125051\n",
        "  7.9914524   8.04165191  8.09184673  8.14203462  8.19221336  8.24238078\n",
        "  8.29253473  8.3426731   8.39279385  8.44289495  8.49297442  8.54303035]\n"
       ]
      }
     ],
     "prompt_number": 15
    },
    {
     "cell_type": "code",
     "collapsed": false,
     "input": [
      "print y"
     ],
     "language": "python",
     "metadata": {},
     "outputs": [
      {
       "output_type": "stream",
       "stream": "stdout",
       "text": [
        "[ 1.75        1.75        1.75        1.74999221  1.74996895  1.74992269\n",
        "  1.74984601  1.74973165  1.74957244  1.74936141  1.74909169  1.74875657\n",
        "  1.74834949  1.74786403  1.74729394  1.7466331   1.74587557  1.74501556\n",
        "  1.74404742  1.74296568  1.74176503  1.74044032  1.73898656  1.73739892\n",
        "  1.73567275  1.73380355  1.73178699  1.72961891  1.72729533  1.7248124\n",
        "  1.72216646  1.71935403  1.71637177  1.71321653  1.70988531  1.70637528\n",
        "  1.70268377  1.6988083   1.69474653  1.69049629  1.68605558  1.68142257\n",
        "  1.67659556  1.67157304  1.66635367  1.66093623  1.6553197   1.64950319\n",
        "  1.64348597  1.63726749  1.63084731  1.62422519  1.617401    1.61037479\n",
        "  1.60314674  1.59571718  1.58808659  1.58025559  1.57222495  1.56399555\n",
        "  1.55556845  1.54694482  1.53812597  1.52911333  1.51990849  1.51051313\n",
        "  1.50092908  1.49115829  1.48120282  1.47106487  1.46074673  1.45025082\n",
        "  1.43957966  1.42873589  1.41772225  1.40654159  1.39519685  1.38369107\n",
        "  1.37202738  1.36020901  1.34823929  1.33612161  1.32385946  1.3114564\n",
        "  1.29891607  1.2862422   1.27343856  1.26050901  1.24745746  1.2342879\n",
        "  1.22100434  1.20761089  1.19411168  1.18051089  1.16681275  1.15302153\n",
        "  1.13914154  1.1251771   1.11113259  1.0970124   1.08282095  1.06856265\n",
        "  1.05424198  1.03986337  1.02543131  1.01095026  0.99642469  0.98185907\n",
        "  0.96725787  0.95262554  0.93796652  0.92328522  0.90858605  0.89387339\n",
        "  0.87915158  0.86442494  0.84969776  0.83497428  0.82025871  0.80555521\n",
        "  0.79086788  0.7762008   0.76155796  0.74694333  0.7323608   0.71781418\n",
        "  0.70330726  0.68884371  0.67442718  0.6600612   0.64574925  0.63149474\n",
        "  0.61730096  0.60317117  0.5891085   0.57511602  0.56119669  0.5473534\n",
        "  0.53358892  0.51990597  0.50630712  0.49279487  0.47937163  0.4660397\n",
        "  0.45280126  0.43965842  0.42661317  0.41366739  0.40082287  0.38808127\n",
        "  0.37544418  0.36291306  0.35048926  0.33817403  0.32596852  0.31387376\n",
        "  0.30189069  0.29002013  0.2782628   0.26661931  0.25509016  0.24367577\n",
        "  0.23237643  0.22119233  0.21012359  0.19917018  0.18833201  0.17760888\n",
        "  0.16700048  0.15650643  0.14612623  0.1358593   0.12570498  0.11566251\n",
        "  0.10573103  0.09590961  0.08619725  0.07659283  0.06709518  0.05770306\n",
        "  0.04841512  0.03922997  0.03014612  0.02116204  0.01227612  0.00348668]\n"
       ]
      }
     ],
     "prompt_number": 16
    },
    {
     "cell_type": "code",
     "collapsed": false,
     "input": [],
     "language": "python",
     "metadata": {},
     "outputs": []
    }
   ],
   "metadata": {}
  }
 ]
}