{
 "metadata": {
  "name": "",
  "signature": "sha256:153d9f1cffd89fa7ee22d7a77abb2437d0d8dbdb669539bac9a61990a897cd9f"
 },
 "nbformat": 3,
 "nbformat_minor": 0,
 "worksheets": [
  {
   "cells": [
    {
     "cell_type": "code",
     "collapsed": false,
     "input": [
      "import numpy\n",
      "import matplotlib.pyplot as plt"
     ],
     "language": "python",
     "metadata": {},
     "outputs": [],
     "prompt_number": 1
    },
    {
     "cell_type": "code",
     "collapsed": false,
     "input": [
      "from math import sin,cos,log,ceil,radians"
     ],
     "language": "python",
     "metadata": {},
     "outputs": [],
     "prompt_number": 2
    },
    {
     "cell_type": "code",
     "collapsed": false,
     "input": [
      "from matplotlib import rcParams\n",
      "rcParams['font.family']='serif'\n",
      "rcParams['font.size']= 16"
     ],
     "language": "python",
     "metadata": {},
     "outputs": [],
     "prompt_number": 3
    },
    {
     "cell_type": "code",
     "collapsed": false,
     "input": [
      "%matplotlib inline"
     ],
     "language": "python",
     "metadata": {},
     "outputs": [],
     "prompt_number": 4
    },
    {
     "cell_type": "code",
     "collapsed": false,
     "input": [
      "g=9.8\n",
      "v_t=4.9\n",
      "L_D=5.0\n",
      "\n",
      "v0=v_t\n",
      "theta0=radians(23.0)\n",
      "x0=0.0\n",
      "y0=2.0"
     ],
     "language": "python",
     "metadata": {},
     "outputs": [],
     "prompt_number": 161
    },
    {
     "cell_type": "code",
     "collapsed": false,
     "input": [
      "T=10.0\n",
      "dt=0.01\n",
      "N=int(T/dt)+1\n",
      "t=numpy.linspace(0.0,T,N)"
     ],
     "language": "python",
     "metadata": {},
     "outputs": [],
     "prompt_number": 162
    },
    {
     "cell_type": "code",
     "collapsed": false,
     "input": [
      "def f(u):\n",
      "    v=u[0]\n",
      "    theta=u[1]\n",
      "    x=u[2]\n",
      "    y=u[3]\n",
      "    return numpy.array([-g*sin(theta)-1/L_D*g/v_t**2*v**2,\n",
      "                        -g*cos(theta)/v+g/v_t**2*v,\n",
      "                        v*cos(theta),\n",
      "                        v*sin(theta)])"
     ],
     "language": "python",
     "metadata": {},
     "outputs": [],
     "prompt_number": 163
    },
    {
     "cell_type": "code",
     "collapsed": false,
     "input": [
      "def euler_step(u,f,dt):\n",
      "    return u+dt*f(u)"
     ],
     "language": "python",
     "metadata": {},
     "outputs": [],
     "prompt_number": 164
    },
    {
     "cell_type": "code",
     "collapsed": false,
     "input": [
      "u=numpy.empty((N,4))\n",
      "u[0]=numpy.array([v0,theta0,x0,y0])\n",
      "for n in range(N-1):\n",
      "     u[n+1]=euler_step(u[n],f,dt)\n",
      "     if u[n,3] <= 0:\n",
      "       break"
     ],
     "language": "python",
     "metadata": {},
     "outputs": [],
     "prompt_number": 165
    },
    {
     "cell_type": "code",
     "collapsed": false,
     "input": [
      "for m in range(len(u)):\n",
      "    if u[m,3]<= 0:\n",
      "        i=m\n",
      "        break    "
     ],
     "language": "python",
     "metadata": {},
     "outputs": [],
     "prompt_number": 166
    },
    {
     "cell_type": "code",
     "collapsed": false,
     "input": [
      "print i"
     ],
     "language": "python",
     "metadata": {},
     "outputs": [
      {
       "output_type": "stream",
       "stream": "stdout",
       "text": [
        "205\n"
       ]
      }
     ],
     "prompt_number": 167
    },
    {
     "cell_type": "code",
     "collapsed": false,
     "input": [
      "x=u[0:i,2]\n",
      "y=u[0:i,3]"
     ],
     "language": "python",
     "metadata": {},
     "outputs": [],
     "prompt_number": 168
    },
    {
     "cell_type": "code",
     "collapsed": false,
     "input": [
      "plt.figure(figsize=(8,6))\n",
      "plt.grid(True)\n",
      "plt.xlabel(r'x', fontsize=18)\n",
      "plt.ylabel(r'y', fontsize=18)\n",
      "plt.title('paper airplane challenge')\n",
      "plt.plot(x,y,'b-', lw=2)"
     ],
     "language": "python",
     "metadata": {},
     "outputs": [
      {
       "metadata": {},
       "output_type": "pyout",
       "prompt_number": 169,
       "text": [
        "[<matplotlib.lines.Line2D at 0xb0f8d30>]"
       ]
      },
      {
       "metadata": {},
       "output_type": "display_data",
       "png": "[encoded data removed]",
       "text": [
        "<matplotlib.figure.Figure at 0xc335eb8>"
       ]
      }
     ],
     "prompt_number": 169
    },
    {
     "cell_type": "code",
     "collapsed": false,
     "input": [
      "print x"
     ],
     "language": "python",
     "metadata": {},
     "outputs": [
      {
       "output_type": "stream",
       "stream": "stdout",
       "text": [
        "[ 0.          0.04510474  0.08964644  0.133637    0.17708844  0.22001298\n",
        "  0.26242292  0.30433068  0.34574873  0.3866896   0.42716585  0.46719004\n",
        "  0.50677472  0.54593242  0.58467561  0.6230167   0.66096803  0.69854185\n",
        "  0.73575029  0.7726054   0.80911908  0.84530308  0.88116905  0.91672846\n",
        "  0.95199261  0.98697268  1.02167965  1.05612432  1.09031736  1.12426922\n",
        "  1.15799018  1.19149036  1.2247797   1.25786794  1.29076466  1.32347928\n",
        "  1.35602103  1.388399    1.4206221   1.45269909  1.48463858  1.51644907\n",
        "  1.54813888  1.57971623  1.61118923  1.64256585  1.67385398  1.70506142\n",
        "  1.73619589  1.76726503  1.79827641  1.82923756  1.86015595  1.89103905\n",
        "  1.92189426  1.95272899  1.98355063  2.01436658  2.04518425  2.07601105\n",
        "  2.10685441  2.13772179  2.1686207   2.19955866  2.23054322  2.261582\n",
        "  2.29268265  2.32385285  2.35510033  2.38643287  2.41785828  2.44938442\n",
        "  2.48101916  2.51277042  2.54464615  2.5766543   2.60880285  2.64109978\n",
        "  2.67355309  2.70617073  2.73896069  2.77193089  2.80508925  2.83844361\n",
        "  2.8720018   2.90577157  2.93976059  2.97397645  3.00842666  3.04311861\n",
        "  3.07805958  3.11325673  3.14871706  3.18444744  3.22045459  3.25674503\n",
        "  3.29332511  3.33020099  3.36737862  3.40486375  3.44266187  3.48077828\n",
        "  3.51921799  3.55798579  3.59708618  3.6365234   3.67630139  3.71642384\n",
        "  3.7568941   3.79771522  3.83888996  3.88042074  3.92230967  3.96455851\n",
        "  4.00716871  4.05014136  4.09347721  4.13717669  4.18123983  4.22566637\n",
        "  4.27045565  4.31560669  4.36111813  4.40698828  4.45321509  4.49979618\n",
        "  4.54672879  4.59400984  4.64163591  4.68960325  4.73790777  4.78654505\n",
        "  4.83551038  4.8847987   4.93440469  4.98432269  5.03454679  5.08507078\n",
        "  5.13588818  5.18699227  5.23837606  5.29003232  5.3419536   5.39413225\n",
        "  5.44656037  5.49922991  5.55213261  5.60526006  5.65860368  5.71215476\n",
        "  5.76590444  5.81984375  5.87396362  5.92825489  5.9827083   6.03731455\n",
        "  6.09206427  6.14694806  6.20195648  6.2570801   6.31230945  6.3676351\n",
        "  6.42304765  6.4785377   6.53409592  6.58971304  6.64537985  6.70108722\n",
        "  6.75682612  6.81258761  6.86836286  6.92414318  6.97991999  7.03568485\n",
        "  7.09142948  7.14714573  7.20282563  7.25846139  7.31404537  7.36957012\n",
        "  7.42502839  7.48041312  7.53571743  7.59093467  7.64605838  7.7010823\n",
        "  7.75600042  7.81080692  7.86549619  7.92006288  7.97450181  8.02880808\n",
        "  8.08297697  8.13700401  8.19088495  8.24461577  8.29819266  8.35161206\n",
        "  8.4048706   8.45796517  8.51089284  8.56365094  8.61623698  8.6686487\n",
        "  8.72088405]\n"
       ]
      }
     ],
     "prompt_number": 170
    },
    {
     "cell_type": "code",
     "collapsed": false,
     "input": [
      "print y"
     ],
     "language": "python",
     "metadata": {},
     "outputs": [
      {
       "output_type": "stream",
       "stream": "stdout",
       "text": [
        "[  2.00000000e+00   2.01914583e+00   2.03813629e+00   2.05695138e+00\n",
        "   2.07557169e+00   2.09397843e+00   2.11215337e+00   2.13007890e+00\n",
        "   2.14773799e+00   2.16511414e+00   2.18219145e+00   2.19895454e+00\n",
        "   2.21538859e+00   2.23147930e+00   2.24721286e+00   2.26257602e+00\n",
        "   2.27755597e+00   2.29214044e+00   2.30631760e+00   2.32007609e+00\n",
        "   2.33340502e+00   2.34629393e+00   2.35873282e+00   2.37071210e+00\n",
        "   2.38222259e+00   2.39325555e+00   2.40380262e+00   2.41385584e+00\n",
        "   2.42340763e+00   2.43245081e+00   2.44097856e+00   2.44898442e+00\n",
        "   2.45646232e+00   2.46340653e+00   2.46981165e+00   2.47567268e+00\n",
        "   2.48098493e+00   2.48574405e+00   2.48994604e+00   2.49358724e+00\n",
        "   2.49666432e+00   2.49917428e+00   2.50111447e+00   2.50248255e+00\n",
        "   2.50327651e+00   2.50349470e+00   2.50313577e+00   2.50219873e+00\n",
        "   2.50068290e+00   2.49858793e+00   2.49591383e+00   2.49266092e+00\n",
        "   2.48882986e+00   2.48442163e+00   2.47943758e+00   2.47387935e+00\n",
        "   2.46774894e+00   2.46104866e+00   2.45378118e+00   2.44594948e+00\n",
        "   2.43755685e+00   2.42860693e+00   2.41910368e+00   2.40905136e+00\n",
        "   2.39845457e+00   2.38731820e+00   2.37564747e+00   2.36344790e+00\n",
        "   2.35072531e+00   2.33748580e+00   2.32373581e+00   2.30948202e+00\n",
        "   2.29473143e+00   2.27949131e+00   2.26376921e+00   2.24757296e+00\n",
        "   2.23091064e+00   2.21379062e+00   2.19622151e+00   2.17821218e+00\n",
        "   2.15977177e+00   2.14090964e+00   2.12163541e+00   2.10195894e+00\n",
        "   2.08189029e+00   2.06143980e+00   2.04061798e+00   2.01943560e+00\n",
        "   1.99790361e+00   1.97603317e+00   1.95383566e+00   1.93132263e+00\n",
        "   1.90850583e+00   1.88539718e+00   1.86200878e+00   1.83835290e+00\n",
        "   1.81444196e+00   1.79028852e+00   1.76590531e+00   1.74130517e+00\n",
        "   1.71650107e+00   1.69150612e+00   1.66633350e+00   1.64099650e+00\n",
        "   1.61550851e+00   1.58988299e+00   1.56413346e+00   1.53827351e+00\n",
        "   1.51231674e+00   1.48627684e+00   1.46016746e+00   1.43400231e+00\n",
        "   1.40779507e+00   1.38155942e+00   1.35530899e+00   1.32905740e+00\n",
        "   1.30281820e+00   1.27660489e+00   1.25043086e+00   1.22430945e+00\n",
        "   1.19825387e+00   1.17227721e+00   1.14639246e+00   1.12061243e+00\n",
        "   1.09494980e+00   1.06941707e+00   1.04402655e+00   1.01879038e+00\n",
        "   9.93720464e-01   9.68828516e-01   9.44125999e-01   9.19624140e-01\n",
        "   8.95333911e-01   8.71266020e-01   8.47430896e-01   8.23838685e-01\n",
        "   8.00499233e-01   7.77422082e-01   7.54616457e-01   7.32091260e-01\n",
        "   7.09855058e-01   6.87916079e-01   6.66282204e-01   6.44960956e-01\n",
        "   6.23959500e-01   6.03284632e-01   5.82942776e-01   5.62939981e-01\n",
        "   5.43281913e-01   5.23973854e-01   5.05020700e-01   4.86426956e-01\n",
        "   4.68196736e-01   4.50333760e-01   4.32841357e-01   4.15722460e-01\n",
        "   3.98979611e-01   3.82614961e-01   3.66630267e-01   3.51026904e-01\n",
        "   3.35805855e-01   3.20967728e-01   3.06512747e-01   2.92440765e-01\n",
        "   2.78751267e-01   2.65443370e-01   2.52515836e-01   2.39967075e-01\n",
        "   2.27795148e-01   2.15997781e-01   2.04572365e-01   1.93515969e-01\n",
        "   1.82825346e-01   1.72496939e-01   1.62526894e-01   1.52911065e-01\n",
        "   1.43645024e-01   1.34724072e-01   1.26143246e-01   1.17897331e-01\n",
        "   1.09980865e-01   1.02388157e-01   9.51132876e-02   8.81501274e-02\n",
        "   8.14923415e-02   7.51334021e-02   6.90665984e-02   6.32850468e-02\n",
        "   5.77817009e-02   5.25493619e-02   4.75806890e-02   4.28682090e-02\n",
        "   3.84043266e-02   3.41813346e-02   3.01914231e-02   2.64266900e-02\n",
        "   2.28791500e-02   1.95407442e-02   1.64033497e-02   1.34587885e-02\n",
        "   1.06988364e-02   8.11523211e-03   5.69968552e-03   3.44388643e-03\n",
        "   1.33951260e-03]\n"
       ]
      }
     ],
     "prompt_number": 171
    },
    {
     "cell_type": "code",
     "collapsed": false,
     "input": [],
     "language": "python",
     "metadata": {},
     "outputs": []
    }
   ],
   "metadata": {}
  }
 ]
}