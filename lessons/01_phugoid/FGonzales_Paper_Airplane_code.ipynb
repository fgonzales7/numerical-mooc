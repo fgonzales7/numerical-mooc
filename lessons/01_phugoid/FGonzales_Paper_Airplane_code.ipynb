{
 "metadata": {
  "name": "",
  "signature": "sha256:ec0daffcdda35ae90111cfac87e6b4be4df51ee4e7c467d7ecb64d5bf1fa9b5f"
 },
 "nbformat": 3,
 "nbformat_minor": 0,
 "worksheets": [
  {
   "cells": [
    {
     "cell_type": "code",
     "collapsed": false,
     "input": [
      "import numpy\n",
      "import matplotlib.pyplot as plt"
     ],
     "language": "python",
     "metadata": {},
     "outputs": [],
     "prompt_number": 1
    },
    {
     "cell_type": "code",
     "collapsed": false,
     "input": [
      "from math import sin,cos,log,ceil,radians"
     ],
     "language": "python",
     "metadata": {},
     "outputs": [],
     "prompt_number": 2
    },
    {
     "cell_type": "code",
     "collapsed": false,
     "input": [
      "from matplotlib import rcParams\n",
      "rcParams['font.family']='serif'\n",
      "rcParams['font.size']= 16"
     ],
     "language": "python",
     "metadata": {},
     "outputs": [],
     "prompt_number": 3
    },
    {
     "cell_type": "code",
     "collapsed": false,
     "input": [
      "%matplotlib inline"
     ],
     "language": "python",
     "metadata": {},
     "outputs": [],
     "prompt_number": 4
    },
    {
     "cell_type": "code",
     "collapsed": false,
     "input": [
      "g=9.8\n",
      "v_t=4.9\n",
      "L_D=5.0\n",
      "\n",
      "v0=v_t\n",
      "theta0=radians(23.0)\n",
      "x0=0.0\n",
      "y0=1.75"
     ],
     "language": "python",
     "metadata": {},
     "outputs": [],
     "prompt_number": 17
    },
    {
     "cell_type": "code",
     "collapsed": false,
     "input": [
      "T=10.0\n",
      "dt=0.01\n",
      "N=int(T/dt)+1\n",
      "t=numpy.linspace(0.0,T,N)"
     ],
     "language": "python",
     "metadata": {},
     "outputs": [],
     "prompt_number": 18
    },
    {
     "cell_type": "code",
     "collapsed": false,
     "input": [
      "def f(u):\n",
      "    v=u[0]\n",
      "    theta=u[1]\n",
      "    x=u[2]\n",
      "    y=u[3]\n",
      "    return numpy.array([-g*sin(theta)-1/L_D*g/v_t**2*v**2,\n",
      "                        -g*cos(theta)/v+g/v_t**2*v,\n",
      "                        v*cos(theta),\n",
      "                        v*sin(theta)])"
     ],
     "language": "python",
     "metadata": {},
     "outputs": [],
     "prompt_number": 19
    },
    {
     "cell_type": "code",
     "collapsed": false,
     "input": [
      "def euler_step(u,f,dt):\n",
      "    return u+dt*f(u)"
     ],
     "language": "python",
     "metadata": {},
     "outputs": [],
     "prompt_number": 20
    },
    {
     "cell_type": "code",
     "collapsed": false,
     "input": [
      "u=numpy.empty((N,4))\n",
      "u[0]=numpy.array([v0,theta0,x0,y0])\n",
      "for n in range(N-1):\n",
      "     u[n+1]=euler_step(u[n],f,dt)\n",
      "     if u[n,3] <= 0:\n",
      "       break"
     ],
     "language": "python",
     "metadata": {},
     "outputs": [],
     "prompt_number": 21
    },
    {
     "cell_type": "code",
     "collapsed": false,
     "input": [
      "for m in range(len(u)):\n",
      "    if u[m,3]<= 0:\n",
      "        i=m\n",
      "        break    "
     ],
     "language": "python",
     "metadata": {},
     "outputs": [],
     "prompt_number": 22
    },
    {
     "cell_type": "code",
     "collapsed": false,
     "input": [
      "print i"
     ],
     "language": "python",
     "metadata": {},
     "outputs": [
      {
       "output_type": "stream",
       "stream": "stdout",
       "text": [
        "167\n"
       ]
      }
     ],
     "prompt_number": 23
    },
    {
     "cell_type": "code",
     "collapsed": false,
     "input": [
      "x=u[0:i,2]\n",
      "y=u[0:i,3]"
     ],
     "language": "python",
     "metadata": {},
     "outputs": [],
     "prompt_number": 24
    },
    {
     "cell_type": "code",
     "collapsed": false,
     "input": [
      "plt.figure(figsize=(8,6))\n",
      "plt.grid(True)\n",
      "plt.xlabel(r'x', fontsize=18)\n",
      "plt.ylabel(r'y', fontsize=18)\n",
      "plt.title('paper airplane challenge')\n",
      "plt.plot(x,y,'b-', lw=2)"
     ],
     "language": "python",
     "metadata": {},
     "outputs": [
      {
       "metadata": {},
       "output_type": "pyout",
       "prompt_number": 25,
       "text": [
        "[<matplotlib.lines.Line2D at 0xa4d4978>]"
       ]
      },
      {
       "metadata": {},
       "output_type": "display_data",
       "png": "[encoded data removed]",
       "text": [
        "<matplotlib.figure.Figure at 0xa4d4c18>"
       ]
      }
     ],
     "prompt_number": 25
    },
    {
     "cell_type": "code",
     "collapsed": false,
     "input": [
      "print x"
     ],
     "language": "python",
     "metadata": {},
     "outputs": [
      {
       "output_type": "stream",
       "stream": "stdout",
       "text": [
        "[ 0.          0.04510474  0.08964644  0.133637    0.17708844  0.22001298\n",
        "  0.26242292  0.30433068  0.34574873  0.3866896   0.42716585  0.46719004\n",
        "  0.50677472  0.54593242  0.58467561  0.6230167   0.66096803  0.69854185\n",
        "  0.73575029  0.7726054   0.80911908  0.84530308  0.88116905  0.91672846\n",
        "  0.95199261  0.98697268  1.02167965  1.05612432  1.09031736  1.12426922\n",
        "  1.15799018  1.19149036  1.2247797   1.25786794  1.29076466  1.32347928\n",
        "  1.35602103  1.388399    1.4206221   1.45269909  1.48463858  1.51644907\n",
        "  1.54813888  1.57971623  1.61118923  1.64256585  1.67385398  1.70506142\n",
        "  1.73619589  1.76726503  1.79827641  1.82923756  1.86015595  1.89103905\n",
        "  1.92189426  1.95272899  1.98355063  2.01436658  2.04518425  2.07601105\n",
        "  2.10685441  2.13772179  2.1686207   2.19955866  2.23054322  2.261582\n",
        "  2.29268265  2.32385285  2.35510033  2.38643287  2.41785828  2.44938442\n",
        "  2.48101916  2.51277042  2.54464615  2.5766543   2.60880285  2.64109978\n",
        "  2.67355309  2.70617073  2.73896069  2.77193089  2.80508925  2.83844361\n",
        "  2.8720018   2.90577157  2.93976059  2.97397645  3.00842666  3.04311861\n",
        "  3.07805958  3.11325673  3.14871706  3.18444744  3.22045459  3.25674503\n",
        "  3.29332511  3.33020099  3.36737862  3.40486375  3.44266187  3.48077828\n",
        "  3.51921799  3.55798579  3.59708618  3.6365234   3.67630139  3.71642384\n",
        "  3.7568941   3.79771522  3.83888996  3.88042074  3.92230967  3.96455851\n",
        "  4.00716871  4.05014136  4.09347721  4.13717669  4.18123983  4.22566637\n",
        "  4.27045565  4.31560669  4.36111813  4.40698828  4.45321509  4.49979618\n",
        "  4.54672879  4.59400984  4.64163591  4.68960325  4.73790777  4.78654505\n",
        "  4.83551038  4.8847987   4.93440469  4.98432269  5.03454679  5.08507078\n",
        "  5.13588818  5.18699227  5.23837606  5.29003232  5.3419536   5.39413225\n",
        "  5.44656037  5.49922991  5.55213261  5.60526006  5.65860368  5.71215476\n",
        "  5.76590444  5.81984375  5.87396362  5.92825489  5.9827083   6.03731455\n",
        "  6.09206427  6.14694806  6.20195648  6.2570801   6.31230945  6.3676351\n",
        "  6.42304765  6.4785377   6.53409592  6.58971304  6.64537985]\n"
       ]
      }
     ],
     "prompt_number": 26
    },
    {
     "cell_type": "code",
     "collapsed": false,
     "input": [
      "print y"
     ],
     "language": "python",
     "metadata": {},
     "outputs": [
      {
       "output_type": "stream",
       "stream": "stdout",
       "text": [
        "[ 1.75        1.76914583  1.78813629  1.80695138  1.82557169  1.84397843\n",
        "  1.86215337  1.8800789   1.89773799  1.91511414  1.93219145  1.94895454\n",
        "  1.96538859  1.9814793   1.99721286  2.01257602  2.02755597  2.04214044\n",
        "  2.0563176   2.07007609  2.08340502  2.09629393  2.10873282  2.1207121\n",
        "  2.13222259  2.14325555  2.15380262  2.16385584  2.17340763  2.18245081\n",
        "  2.19097856  2.19898442  2.20646232  2.21340653  2.21981165  2.22567268\n",
        "  2.23098493  2.23574405  2.23994604  2.24358724  2.24666432  2.24917428\n",
        "  2.25111447  2.25248255  2.25327651  2.2534947   2.25313577  2.25219873\n",
        "  2.2506829   2.24858793  2.24591383  2.24266092  2.23882986  2.23442163\n",
        "  2.22943758  2.22387935  2.21774894  2.21104866  2.20378118  2.19594948\n",
        "  2.18755685  2.17860693  2.16910368  2.15905136  2.14845457  2.1373182\n",
        "  2.12564747  2.1134479   2.10072531  2.0874858   2.07373581  2.05948202\n",
        "  2.04473143  2.02949131  2.01376921  1.99757296  1.98091064  1.96379062\n",
        "  1.94622151  1.92821218  1.90977177  1.89090964  1.87163541  1.85195894\n",
        "  1.83189029  1.8114398   1.79061798  1.7694356   1.74790361  1.72603317\n",
        "  1.70383566  1.68132263  1.65850583  1.63539718  1.61200878  1.5883529\n",
        "  1.56444196  1.54028852  1.51590531  1.49130517  1.46650107  1.44150612\n",
        "  1.4163335   1.3909965   1.36550851  1.33988299  1.31413346  1.28827351\n",
        "  1.26231674  1.23627684  1.21016746  1.18400231  1.15779507  1.13155942\n",
        "  1.10530899  1.0790574   1.0528182   1.02660489  1.00043086  0.97430945\n",
        "  0.94825387  0.92227721  0.89639246  0.87061243  0.8449498   0.81941707\n",
        "  0.79402655  0.76879038  0.74372046  0.71882852  0.694126    0.66962414\n",
        "  0.64533391  0.62126602  0.5974309   0.57383868  0.55049923  0.52742208\n",
        "  0.50461646  0.48209126  0.45985506  0.43791608  0.4162822   0.39496096\n",
        "  0.3739595   0.35328463  0.33294278  0.31293998  0.29328191  0.27397385\n",
        "  0.2550207   0.23642696  0.21819674  0.20033376  0.18284136  0.16572246\n",
        "  0.14897961  0.13261496  0.11663027  0.1010269   0.08580586  0.07096773\n",
        "  0.05651275  0.04244077  0.02875127  0.01544337  0.00251584]\n"
       ]
      }
     ],
     "prompt_number": 27
    },
    {
     "cell_type": "code",
     "collapsed": false,
     "input": [],
     "language": "python",
     "metadata": {},
     "outputs": []
    }
   ],
   "metadata": {}
  }
 ]
}