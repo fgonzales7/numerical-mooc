{
 "metadata": {
  "name": "",
  "signature": "sha256:0f356c50f9437af1827b315d266a209601b79d896a03f591564d45cba1632dff"
 },
 "nbformat": 3,
 "nbformat_minor": 0,
 "worksheets": [
  {
   "cells": [
    {
     "cell_type": "code",
     "collapsed": false,
     "input": [
      "import numpy\n",
      "import matplotlib.pyplot as plt"
     ],
     "language": "python",
     "metadata": {},
     "outputs": [],
     "prompt_number": 1
    },
    {
     "cell_type": "code",
     "collapsed": false,
     "input": [
      "from math import sin,cos,log,ceil,radians"
     ],
     "language": "python",
     "metadata": {},
     "outputs": [],
     "prompt_number": 2
    },
    {
     "cell_type": "code",
     "collapsed": false,
     "input": [
      "from matplotlib import rcParams\n",
      "rcParams['font.family']='serif'\n",
      "rcParams['font.size']= 16"
     ],
     "language": "python",
     "metadata": {},
     "outputs": [],
     "prompt_number": 3
    },
    {
     "cell_type": "code",
     "collapsed": false,
     "input": [
      "%matplotlib inline"
     ],
     "language": "python",
     "metadata": {},
     "outputs": [],
     "prompt_number": 4
    },
    {
     "cell_type": "code",
     "collapsed": false,
     "input": [
      "g=9.8\n",
      "v_t=4.9\n",
      "L_D=5.0\n",
      "\n",
      "v0=26.0\n",
      "theta0=radians(0.0)\n",
      "x0=0.0\n",
      "y0=2.0"
     ],
     "language": "python",
     "metadata": {},
     "outputs": [],
     "prompt_number": 243
    },
    {
     "cell_type": "code",
     "collapsed": false,
     "input": [
      "T=10.0\n",
      "dt=0.01\n",
      "N=int(T/dt)+1\n",
      "t=numpy.linspace(0.0,T,N)"
     ],
     "language": "python",
     "metadata": {},
     "outputs": [],
     "prompt_number": 244
    },
    {
     "cell_type": "code",
     "collapsed": false,
     "input": [
      "def f(u):\n",
      "    v=u[0]\n",
      "    theta=u[1]\n",
      "    x=u[2]\n",
      "    y=u[3]\n",
      "    return numpy.array([-g*sin(theta)-1/L_D*g/v_t**2*v**2,\n",
      "                        -g*cos(theta)/v+g/v_t**2*v,\n",
      "                        v*cos(theta),\n",
      "                        v*sin(theta)])"
     ],
     "language": "python",
     "metadata": {},
     "outputs": [],
     "prompt_number": 245
    },
    {
     "cell_type": "code",
     "collapsed": false,
     "input": [
      "def euler_step(u,f,dt):\n",
      "    return u+dt*f(u)"
     ],
     "language": "python",
     "metadata": {},
     "outputs": [],
     "prompt_number": 246
    },
    {
     "cell_type": "code",
     "collapsed": false,
     "input": [
      "u=numpy.empty((N,4))\n",
      "u[0]=numpy.array([v0,theta0,x0,y0])\n",
      "for n in range(N-1):\n",
      "     u[n+1]=euler_step(u[n],f,dt)\n",
      "     if u[n,3] <= 0:\n",
      "       break"
     ],
     "language": "python",
     "metadata": {},
     "outputs": [],
     "prompt_number": 247
    },
    {
     "cell_type": "code",
     "collapsed": false,
     "input": [
      "for m in range(len(u)):\n",
      "    if u[m,3]<= 0:\n",
      "        i=m\n",
      "        break    "
     ],
     "language": "python",
     "metadata": {},
     "outputs": [],
     "prompt_number": 248
    },
    {
     "cell_type": "code",
     "collapsed": false,
     "input": [
      "print i"
     ],
     "language": "python",
     "metadata": {},
     "outputs": [
      {
       "output_type": "stream",
       "stream": "stdout",
       "text": [
        "521\n"
       ]
      }
     ],
     "prompt_number": 249
    },
    {
     "cell_type": "code",
     "collapsed": false,
     "input": [
      "x=u[0:i,2]\n",
      "y=u[0:i,3]"
     ],
     "language": "python",
     "metadata": {},
     "outputs": [],
     "prompt_number": 250
    },
    {
     "cell_type": "code",
     "collapsed": false,
     "input": [
      "plt.figure(figsize=(8,6))\n",
      "plt.grid(True)\n",
      "plt.xlabel(r'x', fontsize=18)\n",
      "plt.ylabel(r'y', fontsize=18)\n",
      "plt.title('paper airplane challenge')\n",
      "plt.plot(x,y,'b-', lw=2)"
     ],
     "language": "python",
     "metadata": {},
     "outputs": [
      {
       "metadata": {},
       "output_type": "pyout",
       "prompt_number": 251,
       "text": [
        "[<matplotlib.lines.Line2D at 0xdda62b0>]"
       ]
      },
      {
       "metadata": {},
       "output_type": "display_data",
       "png": "[encoded data removed]",
       "text": [
        "<matplotlib.figure.Figure at 0xdc900f0>"
       ]
      }
     ],
     "prompt_number": 251
    },
    {
     "cell_type": "code",
     "collapsed": false,
     "input": [
      "print x"
     ],
     "language": "python",
     "metadata": {},
     "outputs": [
      {
       "output_type": "stream",
       "stream": "stdout",
       "text": [
        "[  0.00000000e+00   2.60000000e-01   5.13149798e-01   7.57160286e-01\n",
        "   9.90087469e-01   1.21031486e+00   1.41653307e+00   1.60771745e+00\n",
        "   1.78310459e+00   1.94216825e+00   2.08459528e+00   2.21026204e+00\n",
        "   2.31921154e+00   2.41163169e+00   2.48783477e+00   2.54823834e+00\n",
        "   2.59334755e+00   2.62373909e+00   2.64004657e+00   2.64294741e+00\n",
        "   2.63315124e+00   2.61138963e+00   2.57840709e+00   2.53495343e+00\n",
        "   2.48177703e+00   2.41961936e+00   2.34921024e+00   2.27126407e+00\n",
        "   2.18647673e+00   2.09552321e+00   1.99905575e+00   1.89770252e+00\n",
        "   1.79206680e+00   1.68272638e+00   1.57023346e+00   1.45511468e+00\n",
        "   1.33787142e+00   1.21898028e+00   1.09889369e+00   9.78040635e-01\n",
        "   8.56827449e-01   7.35638661e-01   6.14837893e-01   4.94768752e-01\n",
        "   3.75755736e-01   2.58105117e-01   1.42105807e-01   2.80301847e-02\n",
        "  -8.38651114e-02  -1.93338441e-01  -3.00162462e-01  -4.04123490e-01\n",
        "  -5.05020904e-01  -6.02666607e-01  -6.96884542e-01  -7.87510259e-01\n",
        "  -8.74390530e-01  -9.57383016e-01  -1.03635597e+00  -1.11118802e+00\n",
        "  -1.18176789e+00  -1.24799431e+00  -1.30977582e+00  -1.36703068e+00\n",
        "  -1.41968674e+00  -1.46768143e+00  -1.51096163e+00  -1.54948368e+00\n",
        "  -1.58321331e+00  -1.61212560e+00  -1.63620497e+00  -1.65544509e+00\n",
        "  -1.66984888e+00  -1.67942842e+00  -1.68420486e+00  -1.68420837e+00\n",
        "  -1.67947801e+00  -1.67006159e+00  -1.65601552e+00  -1.63740466e+00\n",
        "  -1.61430209e+00  -1.58678888e+00  -1.55495388e+00  -1.51889341e+00\n",
        "  -1.47871094e+00  -1.43451683e+00  -1.38642789e+00  -1.33456708e+00\n",
        "  -1.27906309e+00  -1.22004990e+00  -1.15766641e+00  -1.09205591e+00\n",
        "  -1.02336568e+00  -9.51746519e-01  -8.77352212e-01  -8.00339095e-01\n",
        "  -7.20865544e-01  -6.39091485e-01  -5.55177906e-01  -4.69286374e-01\n",
        "  -3.81578556e-01  -2.92215754e-01  -2.01358444e-01  -1.09165836e-01\n",
        "  -1.57954479e-02   7.85973031e-02   1.73859490e-01   2.69841046e-01\n",
        "   3.66395107e-01   4.63378334e-01   5.60651216e-01   6.58078337e-01\n",
        "   7.55528627e-01   8.52875580e-01   9.49997455e-01   1.04677744e+00\n",
        "   1.14310379e+00   1.23886998e+00   1.33397473e+00   1.42832216e+00\n",
        "   1.52182175e+00   1.61438845e+00   1.70594260e+00   1.79640998e+00\n",
        "   1.88572172e+00   1.97381429e+00   2.06062939e+00   2.14611389e+00\n",
        "   2.23021972e+00   2.31290375e+00   2.39412767e+00   2.47385786e+00\n",
        "   2.55206523e+00   2.62872508e+00   2.70381695e+00   2.77732441e+00\n",
        "   2.84923497e+00   2.91953981e+00   2.98823372e+00   3.05531480e+00\n",
        "   3.12078438e+00   3.18464680e+00   3.24690925e+00   3.30758158e+00\n",
        "   3.36667615e+00   3.42420764e+00   3.48019289e+00   3.53465076e+00\n",
        "   3.58760195e+00   3.63906885e+00   3.68907539e+00   3.73764692e+00\n",
        "   3.78481003e+00   3.83059246e+00   3.87502294e+00   3.91813110e+00\n",
        "   3.95994731e+00   4.00050261e+00   4.03982860e+00   4.07795729e+00\n",
        "   4.11492109e+00   4.15075264e+00   4.18548477e+00   4.21915043e+00\n",
        "   4.25178256e+00   4.28341408e+00   4.31407781e+00   4.34380638e+00\n",
        "   4.37263219e+00   4.40058739e+00   4.42770379e+00   4.45401282e+00\n",
        "   4.47954550e+00   4.50433241e+00   4.52840364e+00   4.55178877e+00\n",
        "   4.57451681e+00   4.59661623e+00   4.61811488e+00   4.63904001e+00\n",
        "   4.65941822e+00   4.67927547e+00   4.69863704e+00   4.71752753e+00\n",
        "   4.73597084e+00   4.75399016e+00   4.77160799e+00   4.78884607e+00\n",
        "   4.80572544e+00   4.82226636e+00   4.83848839e+00   4.85441032e+00\n",
        "   4.87005019e+00   4.88542527e+00   4.90055211e+00   4.91544648e+00\n",
        "   4.93012338e+00   4.94459708e+00   4.95888108e+00   4.97298816e+00\n",
        "   4.98693035e+00   5.00071894e+00   5.01436454e+00   5.02787707e+00\n",
        "   5.04126577e+00   5.05453927e+00   5.06770561e+00   5.08077228e+00\n",
        "   5.09374629e+00   5.10663419e+00   5.11944214e+00   5.13217598e+00\n",
        "   5.14484122e+00   5.15744312e+00   5.16998670e+00   5.18247675e+00\n",
        "   5.19491791e+00   5.20731470e+00   5.21967161e+00   5.23199326e+00\n",
        "   5.24428445e+00   5.25655038e+00   5.26879669e+00   5.28102960e+00\n",
        "   5.29325594e+00   5.30548315e+00   5.31771930e+00   5.32997308e+00\n",
        "   5.34225372e+00   5.35457103e+00   5.36693531e+00   5.37935736e+00\n",
        "   5.39184845e+00   5.40442028e+00   5.41708499e+00   5.42985512e+00\n",
        "   5.44274363e+00   5.45576385e+00   5.46892949e+00   5.48225461e+00\n",
        "   5.49575363e+00   5.50944127e+00   5.52333260e+00   5.53744296e+00\n",
        "   5.55178797e+00   5.56638352e+00   5.58124573e+00   5.59639093e+00\n",
        "   5.61183565e+00   5.62759658e+00   5.64369056e+00   5.66013455e+00\n",
        "   5.67694558e+00   5.69414077e+00   5.71173725e+00   5.72975218e+00\n",
        "   5.74820268e+00   5.76710581e+00   5.78647854e+00   5.80633775e+00\n",
        "   5.82670014e+00   5.84758223e+00   5.86900035e+00   5.89097055e+00\n",
        "   5.91350863e+00   5.93663005e+00   5.96034993e+00   5.98468303e+00\n",
        "   6.00964368e+00   6.03524576e+00   6.06150270e+00   6.08842740e+00\n",
        "   6.11603224e+00   6.14432902e+00   6.17332895e+00   6.20304260e+00\n",
        "   6.23347992e+00   6.26465016e+00   6.29656185e+00   6.32922283e+00\n",
        "   6.36264016e+00   6.39682013e+00   6.43176826e+00   6.46748924e+00\n",
        "   6.50398694e+00   6.54126437e+00   6.57932372e+00   6.61816628e+00\n",
        "   6.65779248e+00   6.69820186e+00   6.73939308e+00   6.78136388e+00\n",
        "   6.82411113e+00   6.86763079e+00   6.91191795e+00   6.95696676e+00\n",
        "   7.00277055e+00   7.04932172e+00   7.09661185e+00   7.14463164e+00\n",
        "   7.19337095e+00   7.24281885e+00   7.29296358e+00   7.34379260e+00\n",
        "   7.39529261e+00   7.44744959e+00   7.50024878e+00   7.55367476e+00\n",
        "   7.60771143e+00   7.66234208e+00   7.71754939e+00   7.77331549e+00\n",
        "   7.82962196e+00   7.88644991e+00   7.94377995e+00   8.00159230e+00\n",
        "   8.05986676e+00   8.11858281e+00   8.17771959e+00   8.23725596e+00\n",
        "   8.29717056e+00   8.35744181e+00   8.41804798e+00   8.47896722e+00\n",
        "   8.54017757e+00   8.60165703e+00   8.66338359e+00   8.72533527e+00\n",
        "   8.78749013e+00   8.84982635e+00   8.91232220e+00   8.97495615e+00\n",
        "   9.03770685e+00   9.10055315e+00   9.16347420e+00   9.22644940e+00\n",
        "   9.28945847e+00   9.35248147e+00   9.41549883e+00   9.47849136e+00\n",
        "   9.54144027e+00   9.60432722e+00   9.66713430e+00   9.72984409e+00\n",
        "   9.79243964e+00   9.85490450e+00   9.91722274e+00   9.97937895e+00\n",
        "   1.00413583e+01   1.01031464e+01   1.01647295e+01   1.02260944e+01\n",
        "   1.02872286e+01   1.03481198e+01   1.04087566e+01   1.04691282e+01\n",
        "   1.05292241e+01   1.05890346e+01   1.06485505e+01   1.07077632e+01\n",
        "   1.07666647e+01   1.08252474e+01   1.08835044e+01   1.09414294e+01\n",
        "   1.09990164e+01   1.10562602e+01   1.11131560e+01   1.11696996e+01\n",
        "   1.12258871e+01   1.12817154e+01   1.13371815e+01   1.13922832e+01\n",
        "   1.14470187e+01   1.15013866e+01   1.15553858e+01   1.16090158e+01\n",
        "   1.16622765e+01   1.17151680e+01   1.17676912e+01   1.18198468e+01\n",
        "   1.18716363e+01   1.19230614e+01   1.19741241e+01   1.20248266e+01\n",
        "   1.20751717e+01   1.21251621e+01   1.21748011e+01   1.22240921e+01\n",
        "   1.22730388e+01   1.23216450e+01   1.23699149e+01   1.24178528e+01\n",
        "   1.24654631e+01   1.25127507e+01   1.25597203e+01   1.26063769e+01\n",
        "   1.26527257e+01   1.26987721e+01   1.27445214e+01   1.27899791e+01\n",
        "   1.28351509e+01   1.28800425e+01   1.29246597e+01   1.29690085e+01\n",
        "   1.30130947e+01   1.30569245e+01   1.31005037e+01   1.31438387e+01\n",
        "   1.31869355e+01   1.32298004e+01   1.32724394e+01   1.33148590e+01\n",
        "   1.33570652e+01   1.33990644e+01   1.34408629e+01   1.34824669e+01\n",
        "   1.35238827e+01   1.35651164e+01   1.36061745e+01   1.36470630e+01\n",
        "   1.36877882e+01   1.37283564e+01   1.37687737e+01   1.38090461e+01\n",
        "   1.38491800e+01   1.38891814e+01   1.39290563e+01   1.39688108e+01\n",
        "   1.40084509e+01   1.40479827e+01   1.40874121e+01   1.41267450e+01\n",
        "   1.41659873e+01   1.42051449e+01   1.42442237e+01   1.42832295e+01\n",
        "   1.43221681e+01   1.43610451e+01   1.43998665e+01   1.44386377e+01\n",
        "   1.44773646e+01   1.45160528e+01   1.45547079e+01   1.45933354e+01\n",
        "   1.46319410e+01   1.46705302e+01   1.47091084e+01   1.47476812e+01\n",
        "   1.47862541e+01   1.48248323e+01   1.48634214e+01   1.49020267e+01\n",
        "   1.49406535e+01   1.49793071e+01   1.50179928e+01   1.50567158e+01\n",
        "   1.50954814e+01   1.51342947e+01   1.51731607e+01   1.52120847e+01\n",
        "   1.52510716e+01   1.52901265e+01   1.53292542e+01   1.53684597e+01\n",
        "   1.54077478e+01   1.54471233e+01   1.54865909e+01   1.55261554e+01\n",
        "   1.55658213e+01   1.56055931e+01   1.56454753e+01   1.56854723e+01\n",
        "   1.57255884e+01   1.57658279e+01   1.58061948e+01   1.58466933e+01\n",
        "   1.58873272e+01   1.59281005e+01   1.59690168e+01   1.60100799e+01\n",
        "   1.60512933e+01   1.60926605e+01   1.61341846e+01   1.61758690e+01\n",
        "   1.62177168e+01   1.62597307e+01   1.63019137e+01   1.63442685e+01\n",
        "   1.63867976e+01   1.64295033e+01   1.64723879e+01   1.65154536e+01\n",
        "   1.65587024e+01   1.66021359e+01   1.66457559e+01   1.66895639e+01\n",
        "   1.67335611e+01   1.67777489e+01   1.68221281e+01   1.68666997e+01\n",
        "   1.69114643e+01   1.69564225e+01   1.70015746e+01   1.70469207e+01\n",
        "   1.70924610e+01   1.71381952e+01   1.71841230e+01   1.72302439e+01\n",
        "   1.72765574e+01   1.73230624e+01   1.73697581e+01   1.74166434e+01\n",
        "   1.74637167e+01   1.75109768e+01   1.75584219e+01   1.76060503e+01\n",
        "   1.76538599e+01   1.77018487e+01   1.77500144e+01   1.77983546e+01\n",
        "   1.78468668e+01]\n"
       ]
      }
     ],
     "prompt_number": 252
    },
    {
     "cell_type": "code",
     "collapsed": false,
     "input": [
      "print y"
     ],
     "language": "python",
     "metadata": {},
     "outputs": [
      {
       "output_type": "stream",
       "stream": "stdout",
       "text": [
        "[ 2.          2.07071068  2.14267368  2.21570697  2.289636    2.36429374\n",
        "  2.43952075  2.51516519  2.59108278  2.6671367   2.74319754  2.81914316\n",
        "  2.89485853  2.97023557  3.045173    3.11957609  3.19335649  3.26643201\n",
        "  3.33872639  3.41016904  3.48069488  3.55024403  3.6187616   3.68619748\n",
        "  3.75250608  3.8176461   3.88158031  3.94427533  4.0057014   4.06583218\n",
        "  4.12464456  4.18211841  4.23823645  4.29298399  4.34634884  4.39832107\n",
        "  4.44889285  4.49805834  4.54581348  4.59215589  4.6370847   4.68060045\n",
        "  4.72270494  4.76340113  4.80269301  4.84058553  4.87708444  4.91219625\n",
        "  4.94592812  4.97828777  5.00928341  5.03892364  5.06721742  5.09417397\n",
        "  5.1198027   5.14411317  5.16711501  5.18881788  5.2092314   5.2283651\n",
        "  5.24622837  5.2628304   5.27818015  5.29228627  5.30515707  5.31680049\n",
        "  5.32722402  5.33643469  5.34443902  5.351243    5.35685207  5.36127107\n",
        "  5.36450433  5.36655558  5.36742804  5.36712442  5.36564697  5.36299757\n",
        "  5.35917773  5.35418868  5.34803144  5.34070685  5.33221568  5.3225586\n",
        "  5.31173631  5.29974953  5.28659904  5.27228574  5.25681068  5.24017508\n",
        "  5.22238036  5.20342821  5.18332059  5.16205976  5.13964836  5.11608942\n",
        "  5.09138638  5.06554318  5.03856427  5.01045465  4.98121991  4.95086628\n",
        "  4.91940068  4.88683074  4.85316483  4.81841214  4.78258268  4.74568734\n",
        "  4.7077379   4.66874707  4.62872857  4.58769708  4.54566833  4.5026591\n",
        "  4.45868726  4.41377176  4.3679327   4.3211913   4.27356996  4.22509222\n",
        "  4.17578281  4.12566764  4.07477381  4.02312959  3.97076444  3.91770899\n",
        "  3.86399502  3.80965548  3.75472441  3.69923698  3.64322942  3.58673902\n",
        "  3.52980408  3.47246384  3.41475852  3.35672918  3.29841773  3.23986687\n",
        "  3.18111999  3.12222116  3.06321505  3.00414685  2.9450622   2.88600713\n",
        "  2.82702797  2.7681713   2.70948382  2.65101231  2.59280352  2.5349041\n",
        "  2.4773605   2.42021892  2.36352514  2.30732454  2.25166192  2.19658145\n",
        "  2.14212661  2.08834005  2.03526355  1.98293792  1.93140291  1.88069718\n",
        "  1.83085815  1.78192201  1.73392359  1.68689631  1.64087217  1.5958816\n",
        "  1.5519535   1.50911514  1.46739213  1.42680836  1.38738602  1.34914551\n",
        "  1.31210546  1.27628268  1.24169218  1.20834712  1.17625884  1.14543683\n",
        "  1.11588877  1.0876205   1.06063609  1.03493778  1.01052608  0.98739975\n",
        "  0.96555585  0.94498978  0.92569529  0.90766454  0.89088817  0.8753553\n",
        "  0.86105359  0.84796934  0.83608747  0.82539165  0.81586429  0.80748664\n",
        "  0.80023886  0.79410004  0.78904829  0.78506079  0.78211388  0.78018307\n",
        "  0.77924316  0.77926825  0.78023183  0.78210685  0.78486576  0.78848055\n",
        "  0.79292285  0.79816396  0.80417491  0.81092651  0.81838941  0.82653413\n",
        "  0.83533112  0.84475081  0.85476366  0.86534017  0.87645094  0.88806673\n",
        "  0.90015845  0.91269724  0.92565446  0.93900173  0.95271101  0.96675454\n",
        "  0.98110491  0.99573511  1.0106185   1.02572883  1.04104029  1.05652753\n",
        "  1.07216561  1.0879301   1.103797    1.11974283  1.13574458  1.15177975\n",
        "  1.16782634  1.18386286  1.19986831  1.21582223  1.23170466  1.24749614\n",
        "  1.26317774  1.27873103  1.29413808  1.30938149  1.32444432  1.33931017\n",
        "  1.3539631   1.36838767  1.3825689   1.39649232  1.4101439   1.42351009\n",
        "  1.43657778  1.44933432  1.46176751  1.47386555  1.48561713  1.4970113\n",
        "  1.50803756  1.51868582  1.52894639  1.53880995  1.54826762  1.55731085\n",
        "  1.56593151  1.57412182  1.58187437  1.58918213  1.5960384   1.60243685\n",
        "  1.6083715   1.61383671  1.61882717  1.62333793  1.62736436  1.63090216\n",
        "  1.63394737  1.63649634  1.63854575  1.64009262  1.64113428  1.64166836\n",
        "  1.64169284  1.641206    1.64020643  1.63869306  1.6366651   1.63412211\n",
        "  1.63106393  1.62749073  1.62340299  1.61880148  1.61368732  1.60806189\n",
        "  1.60192691  1.59528438  1.58813661  1.58048622  1.57233611  1.5636895\n",
        "  1.55454988  1.54492104  1.53480705  1.52421227  1.51314136  1.50159922\n",
        "  1.48959105  1.47712231  1.46419874  1.45082633  1.43701134  1.42276027\n",
        "  1.40807989  1.39297719  1.37745944  1.36153412  1.34520894  1.32849187\n",
        "  1.31139108  1.29391495  1.2760721   1.25787136  1.23932173  1.22043245\n",
        "  1.20121293  1.18167277  1.16182176  1.14166988  1.12122724  1.10050416\n",
        "  1.07951108  1.05825862  1.03675754  1.01501871  0.99305317  0.97087207\n",
        "  0.94848665  0.92590829  0.90314846  0.88021872  0.85713071  0.83389615\n",
        "  0.81052681  0.78703454  0.76343122  0.73972878  0.71593916  0.69207433\n",
        "  0.66814626  0.64416693  0.62014831  0.59610232  0.57204087  0.54797582\n",
        "  0.52391897  0.49988207  0.47587678  0.45191466  0.4280072   0.40416577\n",
        "  0.38040161  0.35672584  0.33314943  0.30968323  0.28633787  0.26312387\n",
        "  0.24005151  0.21713093  0.19437204  0.17178453  0.14937789  0.12716137\n",
        "  0.10514398  0.08333449  0.0617414   0.04037298  0.01923718]\n"
       ]
      }
     ],
     "prompt_number": 212
    },
    {
     "cell_type": "code",
     "collapsed": false,
     "input": [],
     "language": "python",
     "metadata": {},
     "outputs": []
    }
   ],
   "metadata": {}
  }
 ]
}