{
 "metadata": {
  "name": "",
  "signature": "sha256:7a7f95b79f1a0ccd9b162f1807cdcfc4e9f76e18633047a80b3f7eb3909529d9"
 },
 "nbformat": 3,
 "nbformat_minor": 0,
 "worksheets": [
  {
   "cells": [
    {
     "cell_type": "code",
     "collapsed": false,
     "input": [
      "import numpy\n",
      "import matplotlib.pyplot as plt"
     ],
     "language": "python",
     "metadata": {},
     "outputs": [],
     "prompt_number": 1
    },
    {
     "cell_type": "code",
     "collapsed": false,
     "input": [
      "from math import sin,cos,log,ceil,radians"
     ],
     "language": "python",
     "metadata": {},
     "outputs": [],
     "prompt_number": 2
    },
    {
     "cell_type": "code",
     "collapsed": false,
     "input": [
      "from matplotlib import rcParams\n",
      "rcParams['font.family']='serif'\n",
      "rcParams['font.size']= 16"
     ],
     "language": "python",
     "metadata": {},
     "outputs": [],
     "prompt_number": 3
    },
    {
     "cell_type": "code",
     "collapsed": false,
     "input": [
      "%matplotlib inline"
     ],
     "language": "python",
     "metadata": {},
     "outputs": [],
     "prompt_number": 4
    },
    {
     "cell_type": "code",
     "collapsed": false,
     "input": [
      "g=9.8\n",
      "v_t=4.9\n",
      "L_D=5.0\n",
      "\n",
      "v0=20.0\n",
      "theta0=radians(0.0)\n",
      "x0=0.0\n",
      "y0=2.0"
     ],
     "language": "python",
     "metadata": {},
     "outputs": [],
     "prompt_number": 213
    },
    {
     "cell_type": "code",
     "collapsed": false,
     "input": [
      "T=10.0\n",
      "dt=0.01\n",
      "N=int(T/dt)+1\n",
      "t=numpy.linspace(0.0,T,N)"
     ],
     "language": "python",
     "metadata": {},
     "outputs": [],
     "prompt_number": 214
    },
    {
     "cell_type": "code",
     "collapsed": false,
     "input": [
      "def f(u):\n",
      "    v=u[0]\n",
      "    theta=u[1]\n",
      "    x=u[2]\n",
      "    y=u[3]\n",
      "    return numpy.array([-g*sin(theta)-1/L_D*g/v_t**2*v**2,\n",
      "                        -g*cos(theta)/v+g/v_t**2*v,\n",
      "                        v*cos(theta),\n",
      "                        v*sin(theta)])"
     ],
     "language": "python",
     "metadata": {},
     "outputs": [],
     "prompt_number": 215
    },
    {
     "cell_type": "code",
     "collapsed": false,
     "input": [
      "def euler_step(u,f,dt):\n",
      "    return u+dt*f(u)"
     ],
     "language": "python",
     "metadata": {},
     "outputs": [],
     "prompt_number": 216
    },
    {
     "cell_type": "code",
     "collapsed": false,
     "input": [
      "u=numpy.empty((N,4))\n",
      "u[0]=numpy.array([v0,theta0,x0,y0])\n",
      "for n in range(N-1):\n",
      "     u[n+1]=euler_step(u[n],f,dt)\n",
      "     if u[n,3] <= 0:\n",
      "       break"
     ],
     "language": "python",
     "metadata": {},
     "outputs": [],
     "prompt_number": 217
    },
    {
     "cell_type": "code",
     "collapsed": false,
     "input": [
      "for m in range(len(u)):\n",
      "    if u[m,3]<= 0:\n",
      "        i=m\n",
      "        break    "
     ],
     "language": "python",
     "metadata": {},
     "outputs": [],
     "prompt_number": 218
    },
    {
     "cell_type": "code",
     "collapsed": false,
     "input": [
      "print i"
     ],
     "language": "python",
     "metadata": {},
     "outputs": [
      {
       "output_type": "stream",
       "stream": "stdout",
       "text": [
        "524\n"
       ]
      }
     ],
     "prompt_number": 219
    },
    {
     "cell_type": "code",
     "collapsed": false,
     "input": [
      "x=u[0:i,2]\n",
      "y=u[0:i,3]"
     ],
     "language": "python",
     "metadata": {},
     "outputs": [],
     "prompt_number": 220
    },
    {
     "cell_type": "code",
     "collapsed": false,
     "input": [
      "plt.figure(figsize=(8,6))\n",
      "plt.grid(True)\n",
      "plt.xlabel(r'x', fontsize=18)\n",
      "plt.ylabel(r'y', fontsize=18)\n",
      "plt.title('paper airplane challenge')\n",
      "plt.plot(x,y,'b-', lw=2)"
     ],
     "language": "python",
     "metadata": {},
     "outputs": [
      {
       "metadata": {},
       "output_type": "pyout",
       "prompt_number": 221,
       "text": [
        "[<matplotlib.lines.Line2D at 0xd4e14a8>]"
       ]
      },
      {
       "metadata": {},
       "output_type": "display_data",
       "png": "[encoded data removed]",
       "text": [
        "<matplotlib.figure.Figure at 0xd4fc668>"
       ]
      }
     ],
     "prompt_number": 221
    },
    {
     "cell_type": "code",
     "collapsed": false,
     "input": [
      "print x"
     ],
     "language": "python",
     "metadata": {},
     "outputs": [
      {
       "output_type": "stream",
       "stream": "stdout",
       "text": [
        "[  0.00000000e+00   2.00000000e-01   3.96155801e-01   5.87422875e-01\n",
        "   7.72877147e-01   9.51711243e-01   1.12322990e+00   1.28684468e+00\n",
        "   1.44206821e+00   1.58850797e+00   1.72585989e+00   1.85390173e+00\n",
        "   1.97248648e+00   2.08153575e+00   2.18103328e+00   2.27101867e+00\n",
        "   2.35158129e+00   2.42285443e+00   2.48500985e+00   2.53825256e+00\n",
        "   2.58281593e+00   2.61895726e+00   2.64695353e+00   2.66709764e+00\n",
        "   2.67969489e+00   2.68505987e+00   2.68351359e+00   2.67538096e+00\n",
        "   2.66098854e+00   2.64066257e+00   2.61472724e+00   2.58350319e+00\n",
        "   2.54730627e+00   2.50644641e+00   2.46122676e+00   2.41194297e+00\n",
        "   2.35888257e+00   2.30232456e+00   2.24253907e+00   2.17978715e+00\n",
        "   2.11432061e+00   2.04638203e+00   1.97620476e+00   1.90401302e+00\n",
        "   1.83002202e+00   1.75443822e+00   1.67745949e+00   1.59927540e+00\n",
        "   1.52006754e+00   1.44000976e+00   1.35926854e+00   1.27800331e+00\n",
        "   1.19636681e+00   1.11450538e+00   1.03255936e+00   9.50663377e-01\n",
        "   8.68946724e-01   7.87533648e-01   7.06543683e-01   6.26091943e-01\n",
        "   5.46289417e-01   4.67243239e-01   3.89056945e-01   3.11830719e-01\n",
        "   2.35661610e-01   1.60643746e-01   8.68685120e-02   1.44247254e-02\n",
        "  -5.66012184e-02  -1.26125214e-01  -1.94065337e-01  -2.60341747e-01\n",
        "  -3.24876616e-01  -3.87594074e-01  -4.48420165e-01  -5.07282829e-01\n",
        "  -5.64111894e-01  -6.18839086e-01  -6.71398053e-01  -7.21724407e-01\n",
        "  -7.69755770e-01  -8.15431838e-01  -8.58694460e-01  -8.99487717e-01\n",
        "  -9.37758019e-01  -9.73454202e-01  -1.00652764e+00  -1.03693235e+00\n",
        "  -1.06462514e+00  -1.08956566e+00  -1.11171661e+00  -1.13104380e+00\n",
        "  -1.14751632e+00  -1.16110659e+00  -1.17179057e+00  -1.17954781e+00\n",
        "  -1.18436155e+00  -1.18621888e+00  -1.18511078e+00  -1.18103223e+00\n",
        "  -1.17398228e+00  -1.16396412e+00  -1.15098513e+00  -1.13505691e+00\n",
        "  -1.11619533e+00  -1.09442055e+00  -1.06975698e+00  -1.04223333e+00\n",
        "  -1.01188251e+00  -9.78741667e-01  -9.42852068e-01  -9.04259056e-01\n",
        "  -8.63011957e-01  -8.19163979e-01  -7.72772101e-01  -7.23896938e-01\n",
        "  -6.72602604e-01  -6.18956552e-01  -5.63029413e-01  -5.04894813e-01\n",
        "  -4.44629186e-01  -3.82311577e-01  -3.18023431e-01  -2.51848385e-01\n",
        "  -1.83872044e-01  -1.14181755e-01  -4.28663782e-02   2.99839481e-02\n",
        "   1.04278040e-01   1.79923906e-01   2.56828980e-01   3.34900358e-01\n",
        "   4.14045027e-01   4.94170096e-01   5.75183015e-01   6.56991795e-01\n",
        "   7.39505222e-01   8.22633055e-01   9.06286228e-01   9.90377033e-01\n",
        "   1.07481930e+00   1.15952857e+00   1.24442224e+00   1.32941973e+00\n",
        "   1.41444258e+00   1.49941465e+00   1.58426214e+00   1.66891377e+00\n",
        "   1.75330082e+00   1.83735724e+00   1.92101970e+00   2.00422765e+00\n",
        "   2.08692337e+00   2.16905201e+00   2.25056160e+00   2.33140307e+00\n",
        "   2.41153027e+00   2.49089993e+00   2.56947168e+00   2.64720803e+00\n",
        "   2.72407430e+00   2.80003864e+00   2.87507193e+00   2.94914777e+00\n",
        "   3.02224243e+00   3.09433475e+00   3.16540610e+00   3.23544030e+00\n",
        "   3.30442358e+00   3.37234444e+00   3.43919365e+00   3.50496408e+00\n",
        "   3.56965071e+00   3.63325046e+00   3.69576216e+00   3.75718644e+00\n",
        "   3.81752565e+00   3.87678378e+00   3.93496635e+00   3.99208035e+00\n",
        "   4.04813414e+00   4.10313736e+00   4.15710088e+00   4.21003667e+00\n",
        "   4.26195777e+00   4.31287815e+00   4.36281272e+00   4.41177716e+00\n",
        "   4.45978793e+00   4.50686215e+00   4.55301755e+00   4.59827240e+00\n",
        "   4.64264547e+00   4.68615592e+00   4.72882330e+00   4.77066745e+00\n",
        "   4.81170848e+00   4.85196669e+00   4.89146254e+00   4.93021659e+00\n",
        "   4.96824950e+00   5.00558192e+00   5.04223450e+00   5.07822783e+00\n",
        "   5.11358244e+00   5.14831871e+00   5.18245690e+00   5.21601707e+00\n",
        "   5.24901909e+00   5.28148259e+00   5.31342696e+00   5.34487131e+00\n",
        "   5.37583446e+00   5.40633492e+00   5.43639086e+00   5.46602013e+00\n",
        "   5.49524021e+00   5.52406821e+00   5.55252086e+00   5.58061453e+00\n",
        "   5.60836516e+00   5.63578832e+00   5.66289914e+00   5.68971239e+00\n",
        "   5.71624239e+00   5.74250305e+00   5.76850790e+00   5.79427003e+00\n",
        "   5.81980216e+00   5.84511656e+00   5.87022516e+00   5.89513947e+00\n",
        "   5.91987063e+00   5.94442942e+00   5.96882627e+00   5.99307124e+00\n",
        "   6.01717408e+00   6.04114424e+00   6.06499083e+00   6.08872271e+00\n",
        "   6.11234848e+00   6.13587648e+00   6.15931483e+00   6.18267145e+00\n",
        "   6.20595409e+00   6.22917034e+00   6.25232766e+00   6.27543342e+00\n",
        "   6.29849490e+00   6.32151935e+00   6.34451398e+00   6.36748604e+00\n",
        "   6.39044278e+00   6.41339155e+00   6.43633977e+00   6.45929497e+00\n",
        "   6.48226482e+00   6.50525716e+00   6.52827997e+00   6.55134144e+00\n",
        "   6.57444993e+00   6.59761404e+00   6.62084255e+00   6.64414448e+00\n",
        "   6.66752904e+00   6.69100568e+00   6.71458406e+00   6.73827404e+00\n",
        "   6.76208569e+00   6.78602928e+00   6.81011525e+00   6.83435426e+00\n",
        "   6.85875708e+00   6.88333468e+00   6.90809815e+00   6.93305870e+00\n",
        "   6.95822768e+00   6.98361650e+00   7.00923669e+00   7.03509981e+00\n",
        "   7.06121748e+00   7.08760135e+00   7.11426307e+00   7.14121428e+00\n",
        "   7.16846662e+00   7.19603163e+00   7.22392083e+00   7.25214563e+00\n",
        "   7.28071733e+00   7.30964710e+00   7.33894596e+00   7.36862478e+00\n",
        "   7.39869421e+00   7.42916471e+00   7.46004649e+00   7.49134952e+00\n",
        "   7.52308349e+00   7.55525781e+00   7.58788157e+00   7.62096352e+00\n",
        "   7.65451209e+00   7.68853529e+00   7.72304080e+00   7.75803587e+00\n",
        "   7.79352731e+00   7.82952154e+00   7.86602450e+00   7.90304165e+00\n",
        "   7.94057800e+00   7.97863806e+00   8.01722583e+00   8.05634477e+00\n",
        "   8.09599787e+00   8.13618752e+00   8.17691562e+00   8.21818348e+00\n",
        "   8.25999187e+00   8.30234100e+00   8.34523050e+00   8.38865944e+00\n",
        "   8.43262631e+00   8.47712904e+00   8.52216499e+00   8.56773093e+00\n",
        "   8.61382308e+00   8.66043709e+00   8.70756807e+00   8.75521055e+00\n",
        "   8.80335854e+00   8.85200550e+00   8.90114438e+00   8.95076761e+00\n",
        "   9.00086711e+00   9.05143431e+00   9.10246019e+00   9.15393523e+00\n",
        "   9.20584949e+00   9.25819261e+00   9.31095378e+00   9.36412184e+00\n",
        "   9.41768522e+00   9.47163203e+00   9.52595001e+00   9.58062661e+00\n",
        "   9.63564897e+00   9.69100397e+00   9.74667824e+00   9.80265816e+00\n",
        "   9.85892994e+00   9.91547957e+00   9.97229291e+00   1.00293557e+01\n",
        "   1.00866534e+01   1.01441717e+01   1.02018959e+01   1.02598114e+01\n",
        "   1.03179036e+01   1.03761578e+01   1.04345595e+01   1.04930939e+01\n",
        "   1.05517467e+01   1.06105032e+01   1.06693493e+01   1.07282707e+01\n",
        "   1.07872532e+01   1.08462829e+01   1.09053462e+01   1.09644294e+01\n",
        "   1.10235191e+01   1.10826023e+01   1.11416660e+01   1.12006975e+01\n",
        "   1.12596846e+01   1.13186150e+01   1.13774770e+01   1.14362590e+01\n",
        "   1.14949498e+01   1.15535385e+01   1.16120145e+01   1.16703677e+01\n",
        "   1.17285880e+01   1.17866660e+01   1.18445925e+01   1.19023585e+01\n",
        "   1.19599556e+01   1.20173757e+01   1.20746110e+01   1.21316541e+01\n",
        "   1.21884980e+01   1.22451360e+01   1.23015618e+01   1.23577694e+01\n",
        "   1.24137534e+01   1.24695084e+01   1.25250296e+01   1.25803125e+01\n",
        "   1.26353530e+01   1.26901473e+01   1.27446918e+01   1.27989834e+01\n",
        "   1.28530195e+01   1.29067974e+01   1.29603150e+01   1.30135705e+01\n",
        "   1.30665623e+01   1.31192893e+01   1.31717504e+01   1.32239449e+01\n",
        "   1.32758726e+01   1.33275332e+01   1.33789269e+01   1.34300542e+01\n",
        "   1.34809156e+01   1.35315120e+01   1.35818445e+01   1.36319144e+01\n",
        "   1.36817233e+01   1.37312729e+01   1.37805652e+01   1.38296022e+01\n",
        "   1.38783862e+01   1.39269198e+01   1.39752056e+01   1.40232463e+01\n",
        "   1.40710450e+01   1.41186046e+01   1.41659284e+01   1.42130198e+01\n",
        "   1.42598822e+01   1.43065192e+01   1.43529344e+01   1.43991318e+01\n",
        "   1.44451150e+01   1.44908882e+01   1.45364553e+01   1.45818205e+01\n",
        "   1.46269879e+01   1.46719619e+01   1.47167466e+01   1.47613466e+01\n",
        "   1.48057663e+01   1.48500100e+01   1.48940823e+01   1.49379878e+01\n",
        "   1.49817310e+01   1.50253165e+01   1.50687490e+01   1.51120331e+01\n",
        "   1.51551735e+01   1.51981750e+01   1.52410421e+01   1.52837796e+01\n",
        "   1.53263922e+01   1.53688847e+01   1.54112619e+01   1.54535283e+01\n",
        "   1.54956888e+01   1.55377481e+01   1.55797109e+01   1.56215820e+01\n",
        "   1.56633660e+01   1.57050677e+01   1.57466917e+01   1.57882427e+01\n",
        "   1.58297255e+01   1.58711446e+01   1.59125048e+01   1.59538105e+01\n",
        "   1.59950665e+01   1.60362773e+01   1.60774476e+01   1.61185817e+01\n",
        "   1.61596844e+01   1.62007600e+01   1.62418131e+01   1.62828481e+01\n",
        "   1.63238695e+01   1.63648816e+01   1.64058889e+01   1.64468957e+01\n",
        "   1.64879064e+01   1.65289251e+01   1.65699562e+01   1.66110039e+01\n",
        "   1.66520723e+01   1.66931657e+01   1.67342882e+01   1.67754437e+01\n",
        "   1.68166364e+01   1.68578702e+01   1.68991491e+01   1.69404769e+01\n",
        "   1.69818576e+01   1.70232948e+01   1.70647924e+01   1.71063540e+01\n",
        "   1.71479833e+01   1.71896837e+01   1.72314589e+01   1.72733123e+01\n",
        "   1.73152472e+01   1.73572670e+01   1.73993748e+01   1.74415739e+01\n",
        "   1.74838673e+01   1.75262581e+01   1.75687492e+01   1.76113433e+01\n",
        "   1.76540434e+01   1.76968520e+01   1.77397717e+01   1.77828051e+01\n",
        "   1.78259546e+01   1.78692224e+01   1.79126107e+01   1.79561217e+01\n",
        "   1.79997574e+01   1.80435196e+01   1.80874102e+01   1.81314309e+01\n",
        "   1.81755832e+01   1.82198685e+01   1.82642884e+01   1.83088440e+01]\n"
       ]
      }
     ],
     "prompt_number": 222
    },
    {
     "cell_type": "code",
     "collapsed": false,
     "input": [
      "print y"
     ],
     "language": "python",
     "metadata": {},
     "outputs": [
      {
       "output_type": "stream",
       "stream": "stdout",
       "text": [
        "[ 2.          2.07071068  2.14267368  2.21570697  2.289636    2.36429374\n",
        "  2.43952075  2.51516519  2.59108278  2.6671367   2.74319754  2.81914316\n",
        "  2.89485853  2.97023557  3.045173    3.11957609  3.19335649  3.26643201\n",
        "  3.33872639  3.41016904  3.48069488  3.55024403  3.6187616   3.68619748\n",
        "  3.75250608  3.8176461   3.88158031  3.94427533  4.0057014   4.06583218\n",
        "  4.12464456  4.18211841  4.23823645  4.29298399  4.34634884  4.39832107\n",
        "  4.44889285  4.49805834  4.54581348  4.59215589  4.6370847   4.68060045\n",
        "  4.72270494  4.76340113  4.80269301  4.84058553  4.87708444  4.91219625\n",
        "  4.94592812  4.97828777  5.00928341  5.03892364  5.06721742  5.09417397\n",
        "  5.1198027   5.14411317  5.16711501  5.18881788  5.2092314   5.2283651\n",
        "  5.24622837  5.2628304   5.27818015  5.29228627  5.30515707  5.31680049\n",
        "  5.32722402  5.33643469  5.34443902  5.351243    5.35685207  5.36127107\n",
        "  5.36450433  5.36655558  5.36742804  5.36712442  5.36564697  5.36299757\n",
        "  5.35917773  5.35418868  5.34803144  5.34070685  5.33221568  5.3225586\n",
        "  5.31173631  5.29974953  5.28659904  5.27228574  5.25681068  5.24017508\n",
        "  5.22238036  5.20342821  5.18332059  5.16205976  5.13964836  5.11608942\n",
        "  5.09138638  5.06554318  5.03856427  5.01045465  4.98121991  4.95086628\n",
        "  4.91940068  4.88683074  4.85316483  4.81841214  4.78258268  4.74568734\n",
        "  4.7077379   4.66874707  4.62872857  4.58769708  4.54566833  4.5026591\n",
        "  4.45868726  4.41377176  4.3679327   4.3211913   4.27356996  4.22509222\n",
        "  4.17578281  4.12566764  4.07477381  4.02312959  3.97076444  3.91770899\n",
        "  3.86399502  3.80965548  3.75472441  3.69923698  3.64322942  3.58673902\n",
        "  3.52980408  3.47246384  3.41475852  3.35672918  3.29841773  3.23986687\n",
        "  3.18111999  3.12222116  3.06321505  3.00414685  2.9450622   2.88600713\n",
        "  2.82702797  2.7681713   2.70948382  2.65101231  2.59280352  2.5349041\n",
        "  2.4773605   2.42021892  2.36352514  2.30732454  2.25166192  2.19658145\n",
        "  2.14212661  2.08834005  2.03526355  1.98293792  1.93140291  1.88069718\n",
        "  1.83085815  1.78192201  1.73392359  1.68689631  1.64087217  1.5958816\n",
        "  1.5519535   1.50911514  1.46739213  1.42680836  1.38738602  1.34914551\n",
        "  1.31210546  1.27628268  1.24169218  1.20834712  1.17625884  1.14543683\n",
        "  1.11588877  1.0876205   1.06063609  1.03493778  1.01052608  0.98739975\n",
        "  0.96555585  0.94498978  0.92569529  0.90766454  0.89088817  0.8753553\n",
        "  0.86105359  0.84796934  0.83608747  0.82539165  0.81586429  0.80748664\n",
        "  0.80023886  0.79410004  0.78904829  0.78506079  0.78211388  0.78018307\n",
        "  0.77924316  0.77926825  0.78023183  0.78210685  0.78486576  0.78848055\n",
        "  0.79292285  0.79816396  0.80417491  0.81092651  0.81838941  0.82653413\n",
        "  0.83533112  0.84475081  0.85476366  0.86534017  0.87645094  0.88806673\n",
        "  0.90015845  0.91269724  0.92565446  0.93900173  0.95271101  0.96675454\n",
        "  0.98110491  0.99573511  1.0106185   1.02572883  1.04104029  1.05652753\n",
        "  1.07216561  1.0879301   1.103797    1.11974283  1.13574458  1.15177975\n",
        "  1.16782634  1.18386286  1.19986831  1.21582223  1.23170466  1.24749614\n",
        "  1.26317774  1.27873103  1.29413808  1.30938149  1.32444432  1.33931017\n",
        "  1.3539631   1.36838767  1.3825689   1.39649232  1.4101439   1.42351009\n",
        "  1.43657778  1.44933432  1.46176751  1.47386555  1.48561713  1.4970113\n",
        "  1.50803756  1.51868582  1.52894639  1.53880995  1.54826762  1.55731085\n",
        "  1.56593151  1.57412182  1.58187437  1.58918213  1.5960384   1.60243685\n",
        "  1.6083715   1.61383671  1.61882717  1.62333793  1.62736436  1.63090216\n",
        "  1.63394737  1.63649634  1.63854575  1.64009262  1.64113428  1.64166836\n",
        "  1.64169284  1.641206    1.64020643  1.63869306  1.6366651   1.63412211\n",
        "  1.63106393  1.62749073  1.62340299  1.61880148  1.61368732  1.60806189\n",
        "  1.60192691  1.59528438  1.58813661  1.58048622  1.57233611  1.5636895\n",
        "  1.55454988  1.54492104  1.53480705  1.52421227  1.51314136  1.50159922\n",
        "  1.48959105  1.47712231  1.46419874  1.45082633  1.43701134  1.42276027\n",
        "  1.40807989  1.39297719  1.37745944  1.36153412  1.34520894  1.32849187\n",
        "  1.31139108  1.29391495  1.2760721   1.25787136  1.23932173  1.22043245\n",
        "  1.20121293  1.18167277  1.16182176  1.14166988  1.12122724  1.10050416\n",
        "  1.07951108  1.05825862  1.03675754  1.01501871  0.99305317  0.97087207\n",
        "  0.94848665  0.92590829  0.90314846  0.88021872  0.85713071  0.83389615\n",
        "  0.81052681  0.78703454  0.76343122  0.73972878  0.71593916  0.69207433\n",
        "  0.66814626  0.64416693  0.62014831  0.59610232  0.57204087  0.54797582\n",
        "  0.52391897  0.49988207  0.47587678  0.45191466  0.4280072   0.40416577\n",
        "  0.38040161  0.35672584  0.33314943  0.30968323  0.28633787  0.26312387\n",
        "  0.24005151  0.21713093  0.19437204  0.17178453  0.14937789  0.12716137\n",
        "  0.10514398  0.08333449  0.0617414   0.04037298  0.01923718]\n"
       ]
      }
     ],
     "prompt_number": 212
    },
    {
     "cell_type": "code",
     "collapsed": false,
     "input": [],
     "language": "python",
     "metadata": {},
     "outputs": []
    }
   ],
   "metadata": {}
  }
 ]
}