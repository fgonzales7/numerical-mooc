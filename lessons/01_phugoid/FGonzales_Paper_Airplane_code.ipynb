{
 "metadata": {
  "name": "",
  "signature": "sha256:98e9effacaf68b70d3196a0916bda0a41f711a12a7295c4726ef73f051833169"
 },
 "nbformat": 3,
 "nbformat_minor": 0,
 "worksheets": [
  {
   "cells": [
    {
     "cell_type": "code",
     "collapsed": false,
     "input": [
      "import numpy\n",
      "import matplotlib.pyplot as plt"
     ],
     "language": "python",
     "metadata": {},
     "outputs": [],
     "prompt_number": 1
    },
    {
     "cell_type": "code",
     "collapsed": false,
     "input": [
      "from math import sin,cos,log,ceil,radians"
     ],
     "language": "python",
     "metadata": {},
     "outputs": [],
     "prompt_number": 2
    },
    {
     "cell_type": "code",
     "collapsed": false,
     "input": [
      "from matplotlib import rcParams\n",
      "rcParams['font.family']='serif'\n",
      "rcParams['font.size']= 16"
     ],
     "language": "python",
     "metadata": {},
     "outputs": [],
     "prompt_number": 3
    },
    {
     "cell_type": "code",
     "collapsed": false,
     "input": [
      "%matplotlib inline"
     ],
     "language": "python",
     "metadata": {},
     "outputs": [],
     "prompt_number": 4
    },
    {
     "cell_type": "code",
     "collapsed": false,
     "input": [
      "g=9.8\n",
      "v_t=4.9\n",
      "L_D=5.0\n",
      "\n",
      "v0=10.0\n",
      "theta0=radians(0.0)\n",
      "x0=0.0\n",
      "y0=1.75"
     ],
     "language": "python",
     "metadata": {},
     "outputs": [],
     "prompt_number": 46
    },
    {
     "cell_type": "code",
     "collapsed": false,
     "input": [
      "T=10.0\n",
      "dt=0.01\n",
      "N=int(T/dt)+1\n",
      "t=numpy.linspace(0.0,T,N)"
     ],
     "language": "python",
     "metadata": {},
     "outputs": [],
     "prompt_number": 47
    },
    {
     "cell_type": "code",
     "collapsed": false,
     "input": [
      "def f(u):\n",
      "    v=u[0]\n",
      "    theta=u[1]\n",
      "    x=u[2]\n",
      "    y=u[3]\n",
      "    return numpy.array([-g*sin(theta)-1/L_D*g/v_t**2*v**2,\n",
      "                        -g*cos(theta)/v+g/v_t**2*v,\n",
      "                        v*cos(theta),\n",
      "                        v*sin(theta)])"
     ],
     "language": "python",
     "metadata": {},
     "outputs": [],
     "prompt_number": 48
    },
    {
     "cell_type": "code",
     "collapsed": false,
     "input": [
      "def euler_step(u,f,dt):\n",
      "    return u+dt*f(u)"
     ],
     "language": "python",
     "metadata": {},
     "outputs": [],
     "prompt_number": 49
    },
    {
     "cell_type": "code",
     "collapsed": false,
     "input": [
      "u=numpy.empty((N,4))\n",
      "u[0]=numpy.array([v0,theta0,x0,y0])\n",
      "for n in range(N-1):\n",
      "     u[n+1]=euler_step(u[n],f,dt)\n",
      "     if u[n,3] <= 0:\n",
      "       break"
     ],
     "language": "python",
     "metadata": {},
     "outputs": [],
     "prompt_number": 50
    },
    {
     "cell_type": "code",
     "collapsed": false,
     "input": [
      "for m in range(len(u)):\n",
      "    if u[m,3]<= 0:\n",
      "        i=m\n",
      "        break    "
     ],
     "language": "python",
     "metadata": {},
     "outputs": [],
     "prompt_number": 51
    },
    {
     "cell_type": "code",
     "collapsed": false,
     "input": [
      "print i"
     ],
     "language": "python",
     "metadata": {},
     "outputs": [
      {
       "output_type": "stream",
       "stream": "stdout",
       "text": [
        "408\n"
       ]
      }
     ],
     "prompt_number": 52
    },
    {
     "cell_type": "code",
     "collapsed": false,
     "input": [
      "x=u[0:i,2]\n",
      "y=u[0:i,3]"
     ],
     "language": "python",
     "metadata": {},
     "outputs": [],
     "prompt_number": 53
    },
    {
     "cell_type": "code",
     "collapsed": false,
     "input": [
      "plt.figure(figsize=(8,6))\n",
      "plt.grid(True)\n",
      "plt.xlabel(r'x', fontsize=18)\n",
      "plt.ylabel(r'y', fontsize=18)\n",
      "plt.title('paper airplane challenge')\n",
      "plt.plot(x,y,'b-', lw=2)"
     ],
     "language": "python",
     "metadata": {},
     "outputs": [
      {
       "metadata": {},
       "output_type": "pyout",
       "prompt_number": 54,
       "text": [
        "[<matplotlib.lines.Line2D at 0xa7ca400>]"
       ]
      },
      {
       "metadata": {},
       "output_type": "display_data",
       "png": "[encoded data removed]",
       "text": [
        "<matplotlib.figure.Figure at 0xaa84978>"
       ]
      }
     ],
     "prompt_number": 54
    },
    {
     "cell_type": "code",
     "collapsed": false,
     "input": [
      "print x"
     ],
     "language": "python",
     "metadata": {},
     "outputs": [
      {
       "output_type": "stream",
       "stream": "stdout",
       "text": [
        "[  0.           0.1          0.19913597   0.29729952   0.39438905\n",
        "   0.49030977   0.58497363   0.67829928   0.77021198   0.86064351\n",
        "   0.94953203   1.03682193   1.12246369   1.20641373   1.28863416\n",
        "   1.36909264   1.44776216   1.52462084   1.59965167   1.67284234\n",
        "   1.74418499   1.81367597   1.88131564   1.94710813   2.0110611\n",
        "   2.07318553   2.13349551   2.19200801   2.24874265   2.30372154\n",
        "   2.35696903   2.40851154   2.45837737   2.50659652   2.5532005\n",
        "   2.59822219   2.64169563   2.68365594   2.72413911   2.76318189\n",
        "   2.80082166   2.83709628   2.87204404   2.90570346   2.93811325\n",
        "   2.96931221   2.9993391    3.0282326    3.05603123   3.08277323\n",
        "   3.10849656   3.13323878   3.15703705   3.17992803   3.20194785\n",
        "   3.2231321    3.24351573   3.26313306   3.28201774   3.30020273\n",
        "   3.31772024   3.33460174   3.35087796   3.36657881   3.38173341\n",
        "   3.3963701    3.41051635   3.42419883   3.43744336   3.45027492\n",
        "   3.46271763   3.47479475   3.48652868   3.49794096   3.50905224\n",
        "   3.51988231   3.53045008   3.54077358   3.55086992   3.56075534\n",
        "   3.57044519   3.57995386   3.58929488   3.5984808    3.60752325\n",
        "   3.6164329    3.62521945   3.63389165   3.64245725   3.65092304\n",
        "   3.65929483   3.66757755   3.67577527   3.68389135   3.69192853\n",
        "   3.69988922   3.70777563   3.71558997   3.72333453   3.73101155\n",
        "   3.73862313   3.74617121   3.75365786   3.7610859    3.76845956\n",
        "   3.77578479   3.78306922   3.79032184   3.79755264   3.80477231\n",
        "   3.81199195   3.819223     3.82647718   3.83376646   3.84110306\n",
        "   3.84849951   3.85596866   3.86352369   3.87117814   3.87894593\n",
        "   3.88684137   3.89487918   3.90307444   3.91144267   3.91999973\n",
        "   3.9287619    3.93774582   3.94696846   3.95644715   3.96619953\n",
        "   3.97624354   3.98659739   3.99727955   4.00830871   4.01970375\n",
        "   4.03148373   4.04366784   4.05627541   4.06932579   4.08283844\n",
        "   4.09683277   4.11132822   4.12634414   4.14189978   4.15801428\n",
        "   4.17470659   4.19199549   4.20989946   4.22843674   4.24762524\n",
        "   4.26748251   4.28802568   4.30927147   4.33123613   4.35393536\n",
        "   4.37738435   4.40159768   4.42658931   4.45237254   4.47896      4.50636355\n",
        "   4.53459433   4.56366267   4.59357807   4.62434921   4.65598386\n",
        "   4.68848892   4.72187034   4.75613314   4.79128137   4.82731809\n",
        "   4.86424537   4.90206425   4.94077477   4.98037593   5.02086567\n",
        "   5.06224092   5.10449753   5.14763035   5.19163315   5.23649868\n",
        "   5.28221867   5.32878384   5.37618388   5.42440752   5.47344251\n",
        "   5.52327567   5.57389288   5.62527911   5.67741849   5.73029427\n",
        "   5.78388891   5.8381841    5.89316075   5.9487991    6.0050787\n",
        "   6.06197847   6.11947674   6.17755129   6.23617941   6.29533791\n",
        "   6.35500317   6.41515123   6.47575778   6.53679822   6.59824773\n",
        "   6.66008128   6.72227371   6.78479974   6.84763406   6.91075131\n",
        "   6.97412619   7.03773346   7.101548     7.16554484   7.2296992\n",
        "   7.29398656   7.35838264   7.42286348   7.48740546   7.55198533\n",
        "   7.61658024   7.6811678    7.74572606   7.81023355   7.87466934\n",
        "   7.93901301   8.00324472   8.06734519   8.13129573   8.19507829\n",
        "   8.2586754    8.32207026   8.38524669   8.44818919   8.51088291\n",
        "   8.57331366   8.63546793   8.69733288   8.75889635   8.82014685\n",
        "   8.88107356   8.94166635   9.00191572   9.06181285   9.12134957\n",
        "   9.18051836   9.23931233   9.29772521   9.35575135   9.41338571\n",
        "   9.47062384   9.52746186   9.58389646   9.63992488   9.69554491\n",
        "   9.75075483   9.80555346   9.85994009   9.91391449   9.96747689\n",
        "  10.02062795  10.07336878  10.12570086  10.1776261   10.22914676\n",
        "  10.28026546  10.33098518  10.3813092   10.43124112  10.48078485\n",
        "  10.52994454  10.57872463  10.62712979  10.67516493  10.72283518\n",
        "  10.77014585  10.81710246  10.8637107   10.9099764   10.95590557\n",
        "  11.00150432  11.04677892  11.09173571  11.13638116  11.18072182\n",
        "  11.22476432  11.26851536  11.31198169  11.35517012  11.39808751\n",
        "  11.44074073  11.48313669  11.52528233  11.56718458  11.6088504\n",
        "  11.65028674  11.69150053  11.73249872  11.77328822  11.81387593\n",
        "  11.85426874  11.8944735   11.93449703  11.97434614  12.01402758\n",
        "  12.05354808  12.09291433  12.13213298  12.17121065  12.21015392\n",
        "  12.2489693   12.28766331  12.32624239  12.36471295  12.40308138\n",
        "  12.441354    12.47953711  12.51763697  12.5556598   12.59361178\n",
        "  12.63149907  12.66932779  12.70710401  12.74483379  12.78252315\n",
        "  12.82017808  12.85780455  12.89540849  12.93299581  12.97057238\n",
        "  13.00814407  13.04571669  13.08329605  13.12088793  13.15849806\n",
        "  13.19613219  13.23379599  13.27149513  13.30923526  13.34702197\n",
        "  13.38486084  13.4227574   13.46071717  13.4987456   13.53684812\n",
        "  13.57503012  13.61329692  13.65165381  13.69010603  13.72865875\n",
        "  13.76731711  13.80608614  13.84497085  13.88397616  13.92310691\n",
        "  13.96236788  14.00176373  14.04129909  14.08097844  14.1208062\n",
        "  14.16078669  14.2009241   14.24122253  14.28168596  14.32231825\n",
        "  14.36312314  14.40410424  14.44526503  14.48660885  14.5281389\n",
        "  14.56985823  14.61176975  14.65387622  14.69618023  14.73868421\n",
        "  14.78139045  14.82430103  14.86741791  14.91074283  14.95427739\n",
        "  14.99802299  15.04198086  15.08615204  15.13053739  15.17513758\n",
        "  15.2199531   15.26498425  15.31023113  15.35569365  15.40137156\n",
        "  15.44726438  15.49337146  15.53969196  15.58622486  15.63296893\n",
        "  15.67992277  15.72708479  15.77445323  15.82202613  15.86980136\n",
        "  15.91777664  15.96594947  16.01431721  16.06287707  16.11162606\n",
        "  16.16056107  16.2096788 ]\n"
       ]
      }
     ],
     "prompt_number": 55
    },
    {
     "cell_type": "code",
     "collapsed": false,
     "input": [
      "print y"
     ],
     "language": "python",
     "metadata": {},
     "outputs": [
      {
       "output_type": "stream",
       "stream": "stdout",
       "text": [
        "[ 1.75        1.75        1.75307582  1.75913268  1.76807267  1.77979526\n",
        "  1.79419762  1.81117514  1.83062172  1.85243026  1.87649294  1.90270158\n",
        "  1.93094801  1.96112432  1.99312318  2.0268381   2.06216368  2.09899583\n",
        "  2.137232    2.17677134  2.2175149   2.25936576  2.30222917  2.3460127\n",
        "  2.3906263   2.43598241  2.48199602  2.52858475  2.57566886  2.62317132\n",
        "  2.67101781  2.71913673  2.76745921  2.81591907  2.86445287  2.9129998\n",
        "  2.96150171  3.00990304  3.05815078  3.10619444  3.15398597  3.2014797\n",
        "  3.2486323   3.29540272  3.34175207  3.38764363  3.4330427   3.4779166\n",
        "  3.52223455  3.56596761  3.60908861  3.65157208  3.69339417  3.73453259\n",
        "  3.77496652  3.81467655  3.85364464  3.89185398  3.929289    3.96593526\n",
        "  4.00177941  4.0368091   4.07101297  4.10438054  4.13690216  4.16856901\n",
        "  4.19937299  4.22930667  4.25836328  4.28653666  4.31382116  4.34021168\n",
        "  4.36570356  4.39029257  4.4139749   4.43674708  4.45860598  4.47954877\n",
        "  4.49957289  4.51867604  4.53685617  4.55411142  4.57044014  4.58584089\n",
        "  4.60031241  4.61385361  4.6264636   4.63814171  4.64888744  4.65870052\n",
        "  4.6675809   4.67552874  4.6825444   4.6886283   4.69378086  4.69800214\n",
        "  4.70129152  4.70364723  4.70506581  4.70554196  4.70506882  4.70363889\n",
        "  4.70124546  4.69788385  4.69355204  4.68825061  4.68198212  4.67475048\n",
        "  4.66656035  4.6574168   4.64732509  4.63629055  4.6243186   4.61141471\n",
        "  4.59758446  4.58283351  4.56716773  4.55059312  4.53311591  4.51474258\n",
        "  4.49547984  4.47533472  4.45431453  4.43242691  4.40967986  4.38608172\n",
        "  4.36164125  4.33636758  4.31027027  4.28335933  4.25564522  4.22713886\n",
        "  4.19785165  4.16779553  4.1369829   4.10542674  4.07314053  4.04013834\n",
        "  4.00643479  3.97204505  3.93698492  3.90127076  3.86491953  3.82794881\n",
        "  3.79037676  3.75222219  3.71350447  3.67424362  3.63446025  3.59417558\n",
        "  3.55341142  3.51219016  3.47053481  3.4284689   3.38601656  3.34320243\n",
        "  3.30005169  3.25659003  3.21284362  3.16883909  3.12460352  3.08016439\n",
        "  3.03554958  2.99078731  2.94590615  2.90093494  2.85590278  2.81083901\n",
        "  2.76577312  2.72073478  2.67575375  2.63085986  2.58608296  2.54145287\n",
        "  2.49699937  2.45275212  2.40874063  2.3649942   2.32154191  2.27841253\n",
        "  2.23563452  2.19323594  2.15124444  2.10968721  2.06859091  2.02798165\n",
        "  1.98788497  1.94832575  1.90932819  1.87091579  1.83311131  1.7959367\n",
        "  1.75941311  1.72356083  1.68839927  1.65394693  1.62022138  1.58723923\n",
        "  1.55501612  1.52356667  1.4929045   1.4630422   1.43399131  1.40576232\n",
        "  1.37836465  1.35180668  1.3260957   1.30123792  1.27723851  1.25410156\n",
        "  1.23183011  1.21042614  1.1898906   1.17022341  1.15142348  1.13348872\n",
        "  1.11641608  1.10020151  1.08484008  1.0703259   1.05665221  1.04381139\n",
        "  1.03179498  1.0205937   1.0101975   1.00059558  0.99177641  0.9837278\n",
        "  0.97643686  0.96989012  0.96407347  0.95897228  0.95457138  0.95085511\n",
        "  0.94780733  0.9454115   0.94365067  0.94250753  0.94196444  0.94200347\n",
        "  0.94260639  0.94375477  0.94542996  0.94761313  0.95028529  0.95342735\n",
        "  0.95702011  0.9610443   0.96548062  0.97030974  0.97551235  0.98106914\n",
        "  0.98696087  0.99316837  0.99967257  1.00645447  1.01349524  1.02077617\n",
        "  1.02827873  1.03598453  1.04387542  1.05193341  1.06014074  1.06847988\n",
        "  1.07693355  1.0854847   1.09411653  1.10281254  1.11155647  1.12033236\n",
        "  1.12912454  1.1379176   1.14669647  1.15544636  1.1641528   1.1728016\n",
        "  1.18137892  1.18987121  1.19826524  1.20654811  1.21470723  1.22273033\n",
        "  1.23060547  1.238321    1.24586564  1.25322838  1.26039856  1.26736582\n",
        "  1.27412015  1.2806518   1.28695139  1.29300982  1.29881831  1.30436838\n",
        "  1.30965188  1.31466094  1.31938801  1.32382583  1.32796746  1.33180622\n",
        "  1.33533577  1.33855002  1.34144321  1.34400984  1.34624472  1.34814292\n",
        "  1.34969982  1.35091106  1.35177258  1.35228057  1.35243153  1.3522222\n",
        "  1.35164961  1.35071108  1.34940416  1.34772669  1.34567677  1.34325277\n",
        "  1.34045332  1.3372773   1.33372387  1.32979242  1.32548261  1.32079436\n",
        "  1.31572783  1.31028343  1.30446183  1.29826393  1.29169088  1.28474407\n",
        "  1.27742513  1.26973593  1.26167855  1.25325534  1.24446885  1.23532186\n",
        "  1.22581739  1.21595865  1.2057491   1.19519239  1.1842924   1.17305319\n",
        "  1.16147904  1.14957445  1.13734408  1.12479281  1.1119257   1.09874799\n",
        "  1.08526511  1.07148266  1.05740643  1.04304236  1.02839656  1.01347531\n",
        "  0.99828503  0.98283231  0.96712387  0.95116657  0.93496743  0.91853359\n",
        "  0.90187229  0.88499093  0.86789702  0.85059815  0.83310205  0.81541653\n",
        "  0.79754951  0.77950897  0.76130301  0.74293977  0.72442748  0.70577443\n",
        "  0.68698896  0.66807948  0.64905441  0.62992225  0.6106915   0.59137069\n",
        "  0.57196838  0.55249312  0.53295349  0.51335804  0.49371533  0.4740339\n",
        "  0.45432224  0.43458885  0.41484215  0.39509055  0.37534239  0.35560595\n",
        "  0.33588943  0.316201    0.29654869  0.27694049  0.25738428  0.23788782\n",
        "  0.21845878  0.19910473  0.17983308  0.16065115  0.1415661   0.12258497\n",
        "  0.10371464  0.08496184  0.06633315  0.04783498  0.02947358  0.01125503]\n"
       ]
      }
     ],
     "prompt_number": 56
    },
    {
     "cell_type": "code",
     "collapsed": false,
     "input": [],
     "language": "python",
     "metadata": {},
     "outputs": []
    }
   ],
   "metadata": {}
  }
 ]
}