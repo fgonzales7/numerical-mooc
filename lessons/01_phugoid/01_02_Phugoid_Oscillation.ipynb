{
 "metadata": {
  "name": "",
  "signature": "sha256:34ba79f03fc331a8957368f91405f9be82933efb3109a3a41c38b1bb81eeb2ac"
 },
 "nbformat": 3,
 "nbformat_minor": 0,
 "worksheets": [
  {
   "cells": [
    {
     "cell_type": "heading",
     "level": 6,
     "metadata": {},
     "source": [
      "Content under Creative Commons Attribution license CC-BY 4.0, code under MIT license (c)2014 L.A. Barba, G.F. Forsyth. Partly based on David Ketcheson's pendulum lesson, also under CC-BY."
     ]
    },
    {
     "cell_type": "heading",
     "level": 1,
     "metadata": {},
     "source": [
      "Phugoid Oscillation"
     ]
    },
    {
     "cell_type": "markdown",
     "metadata": {},
     "source": [
      "Welcome back! This is the second IPython Notebook of the series _\"The phugoid model of glider flight\"_, the first learning module of the course [**\"Practical Numerical Methods with Python.\"**](http://openedx.seas.gwu.edu/courses/GW/MAE6286/2014_fall/about)\n",
      "\n",
      "In the first notebook, _\"Phugoid Motion\"_, we described the physics of an aircraft's oscillatory trajectory, seen as an exchange of kinetic and potential energy. This analysis goes back to Frederick Lanchester, who published his book _\"Aerodonetics\"_ on aircraft stability in 1909. We concluded that first exposure to our problem of interest by plotting the flight paths predicted by Lanchester's analysis, known as _phugoids_.\n",
      "\n",
      "Here, we will look at the situation when an aircraft is initially moving on the straight-line phugoid (obtained with the parameters $C=2/3$, $\\cos\\theta=1$, and $z=z_t$ in the previous analysis), and experiences a small upset, a wind gust that slightly perturbs its path. It will then enter into a gentle oscillation around the previous straight-line path: a _phugoid oscillation_.\n",
      "\n",
      "If the aircraft experiences an upward acceleration of $-d^2z/dt^2$, and we assume that the perturbation is small, then $\\cos\\theta=1$ is a good approximation and Newton's second law in the vertical direction is:\n",
      "\n",
      "$$\\begin{equation}\n",
      "L - W = - \\frac{W}{g}\\frac{d^2 z}{dt^2}\n",
      "\\end{equation}$$\n",
      "\n",
      "In the previous notebook, we saw that the following relation holds for the ratio of lift to weight, in terms of the trim velocity $v_t$:\n",
      "\n",
      "$$\\begin{equation}\n",
      "\\frac{L}{W}=\\frac{v^2}{v_t^2}\n",
      "\\end{equation}$$\n",
      "\n",
      "This will be useful: we can divide Equation (1) by the weight and use Equation (2) to replace $L/W$. Another useful relation from the previous notebook expressed the conservation of energy (per unit mass) as $v^2 = 2 gz$. With this, Equation (1) is rearranged as:\n",
      "\n",
      "$$\\begin{equation}\n",
      "\\frac{d^2z}{dt^2} + \\frac{gz}{z_t} = g\n",
      "\\end{equation}$$"
     ]
    },
    {
     "cell_type": "markdown",
     "metadata": {},
     "source": [
      "Look at Equation (3) for a moment. Does it ring a bell? Do you recognize it?\n",
      "\n",
      "If you remember from your physics courses the equation for _simple harmonic motion_, you should see the similarity! \n",
      "\n",
      "Take the case of a simple spring. Hooke's law is $F=-kx$, where $F$ is a restoring force, $x$ the displacement from a position of equilibrium and $k$ the spring constant. This results in the following ordinary differential equation for the displacement:\n",
      "\n",
      "$$\\begin{equation}\n",
      " \\frac{d^2 x}{dt^2}= -\\frac{k}{m}x\n",
      "\\end{equation}$$\n",
      "\n",
      "which has the solution $x(t) = A \\cos(\\omega t- \\phi)$, representing simple harmonic motion with an angular frequency $\\omega=\\sqrt{k/m}=2\\pi f$ and phase angle $\\phi$.\n",
      "\n",
      "Now look back at Equation (3): it has the same form and it represents simple harmonic motion with angular frequency $\\omega=\\sqrt{g/z_t}$. \n",
      "\n",
      "Think about this for a moment ... we can immediately say what the period of the oscillation is: exactly $2 \\pi \\sqrt{z_t/g}$ \u2014 or, in terms of the trim velocity, $\\pi \\sqrt{2} v_t/g$.\n",
      "\n",
      "_This is a remarkable result!_ Think about it: we know nothing about the aircraft, or the flight altitude, yet we can obtain the period of the phugoid oscillation simply as a function of the trim velocity. For example, if trim velocity is 200 knots, we get a phugoid period of about 47 seconds\u2014over that time, you really would not notice anything if you were flying in that aircraft.\n",
      "\n",
      "Next, we want to be able to compute the trajectory of the aircraft for a given initial perturbance. We will do this by numerically integrating the equation of motion."
     ]
    },
    {
     "cell_type": "heading",
     "level": 2,
     "metadata": {},
     "source": [
      "Prepare to integrate"
     ]
    },
    {
     "cell_type": "markdown",
     "metadata": {},
     "source": [
      "We want to integrate the differential equation and plot the trajectory of the aircraft. Are you ready?\n",
      "\n",
      "The equation for the phugoid oscillation is a second-order, ordinary differential equation (ODE). Let's represent the time derivative with a prime, and write it like this:\n",
      "\n",
      "$$\\begin{equation}\n",
      "z(t)'' + \\frac{g \\,z(t)}{z_t}=g\n",
      "\\end{equation}$$\n",
      "\n",
      "There's a convenient trick when we work with ODEs: we can turn this 2nd-order equation into a system of two 1st-order equations. Like this:\n",
      "\n",
      "$$\\begin{eqnarray}\n",
      "z'(t) &=& v(t)\\\\\n",
      "v'(t) &=& g\\left(1-\\frac{z(t)}{z_t}\\right)\n",
      "\\end{eqnarray}$$\n",
      "\n",
      "Are you following? Make sure you are following the derivations, even if it means writing the equations down in your own notes! (Yes, the old-fashioned paper way.)\n",
      "\n",
      "Another way to look at a system of two 1st-order ODEs is by using vectors. You can make a vector with your two independent variables, \n",
      "\n",
      "$$\\begin{equation}\n",
      "\\vec{u}  = \\begin{pmatrix} z \\\\ v \\end{pmatrix}\n",
      "\\end{equation}$$\n",
      "\n",
      "and write the differential system as a single vector equation:\n",
      "\n",
      "\\begin{equation}\n",
      "\\vec{u}'(t)  = \\begin{pmatrix} v \\\\ g-g\\frac{z(t)}{z_t} \\end{pmatrix}\n",
      "\\end{equation}\n",
      "\n",
      "If you call the right-hand-side $\\vec{f}(\\vec{u})$, then the equation is very short: $\\vec{u}'(t) = \\vec{f}(\\vec{u})$\u2014but let's drop those arrows to denote vectors from now on, as they are a bit cumbersome: just remember that $u$ and $f$ are vectors in the phugoid equation of motion.\n",
      "\n",
      "Next, we'll prepare to solve this problem numerically."
     ]
    },
    {
     "cell_type": "heading",
     "level": 2,
     "metadata": {},
     "source": [
      "Initial value problems"
     ]
    },
    {
     "cell_type": "markdown",
     "metadata": {},
     "source": [
      "Let's step back for a moment. Suppose we have a first-order ODE $u'=f(u)$. You know that if we were to integrate this, there would be an arbitrary constant of integration. To find its value, we do need to know one point on the curve $(t, u)$. When the derivative in the ODE is with respect to time, we call that point the _initial value_ and write something like this:\n",
      "\n",
      "$$u(t=0)=u_0$$\n",
      "\n",
      "In the case of a second-order ODE, we already saw how to write it as a system of first-order ODEs, and we would need an initial value for each equation: two conditions are needed to determine our constants of integration. The same applies for higher-order ODEs: if it is of order $n$, we can write it as $n$ first-order equations, and we need $n$ known values. If we have that data, we call the problem an _initial value problem_.\n",
      "\n",
      "Remember the definition of a derivative? The derivative represents the slope of the tangent at a point of the curve $u=u(t)$, and the definition of the derivative $u'$ for a function is:\n",
      "\n",
      "$$u'(t) = \\lim_{\\Delta t\\rightarrow 0} \\frac{u(t+\\Delta t)-u(t)}{\\Delta t}$$\n",
      "\n",
      "If the step $\\Delta t$ is already very small, we can _approximate_ the derivative by dropping the limit. We can write:\n",
      "\n",
      "$$\\begin{equation}\n",
      "u(t+\\Delta t) \\approx u(t) + u'(t) \\Delta t\n",
      "\\end{equation}$$\n",
      "\n",
      "With this equation, and because we know $u'(t)=f(u)$, if we have an initial value, we can step by $\\Delta t$ and find the value of $u(t+\\Delta t)$, then we can take this value, and find $u(t+2\\Delta t)$, and so on: we say that we _step in time_, numerically finding the solution $u(t)$ for a range of values: $t_1, t_2, t_3 \\cdots$, each separated by $\\Delta t$. The numerical solution of the ODE is simply the table of values $t_i, u_i$ that results from this process."
     ]
    },
    {
     "cell_type": "heading",
     "level": 2,
     "metadata": {},
     "source": [
      "Discretization"
     ]
    },
    {
     "cell_type": "markdown",
     "metadata": {},
     "source": [
      "In order to execute the process described above and find the numerical solution of the ODE, we start by choosing the values $t_1,t_2,t_3 \\cdots t_n$\u2014we call these values our *grid* in time. The first point of the grid is given by our _initial value_, and the small difference between two consecutive times is called the _time step_, denoted by $\\Delta t$.  The solution value at time $t_n$ is denoted by $u_n$.\n",
      "\n",
      "Let's build a time grid for our problem. We first choose a final time $T$ and the time step $\\Delta t$. In code, we'll use readily identifiable variable names: `T` and `dt`, respectively. With those values set, we can calculate the number of time steps that will be needed to reach the final time; we call that variable `N`. \n",
      "\n",
      "Let's write some code. The first thing we do in Python is load our favorite libraries: NumPy for array operations, and the Pyplot module in Matplotlib, to later on be able to plot the numerical solution. The line `%matplotlib inline` tells IPython Notebook to show the plots inline."
     ]
    },
    {
     "cell_type": "code",
     "collapsed": false,
     "input": [
      "import numpy \n",
      "import matplotlib.pyplot as plt\n",
      "%matplotlib inline"
     ],
     "language": "python",
     "metadata": {},
     "outputs": [],
     "prompt_number": 2
    },
    {
     "cell_type": "markdown",
     "metadata": {},
     "source": [
      "Now, initialize `T` and `dt`, calculate `N` and build a NumPy array with all the values of time that make up the grid."
     ]
    },
    {
     "cell_type": "code",
     "collapsed": false,
     "input": [
      "T = 100.0\n",
      "dt = 0.01\n",
      "N = int(T/dt)+1\n",
      "t = numpy.linspace(0.0, T, N)"
     ],
     "language": "python",
     "metadata": {},
     "outputs": [],
     "prompt_number": 3
    },
    {
     "cell_type": "markdown",
     "metadata": {},
     "source": [
      "We have our grid! Now it's time to apply the numerical time stepping represented by Equation (10)."
     ]
    },
    {
     "cell_type": "heading",
     "level": 5,
     "metadata": {},
     "source": [
      "Challenge!"
     ]
    },
    {
     "cell_type": "markdown",
     "metadata": {},
     "source": [
      "* Write the code above using the NumPy function `arange()` instead of `linspace()`. If you need to, read the documentation for these functions."
     ]
    },
    {
     "cell_type": "heading",
     "level": 5,
     "metadata": {},
     "source": [
      "Pro tip:"
     ]
    },
    {
     "cell_type": "markdown",
     "metadata": {},
     "source": [
      "Enter a question mark followed by any function, e.g., `?numpy.linspace`, into a code cell and execute it, to get a help pane on the notebook."
     ]
    },
    {
     "cell_type": "heading",
     "level": 2,
     "metadata": {},
     "source": [
      "Euler's method"
     ]
    },
    {
     "cell_type": "markdown",
     "metadata": {},
     "source": [
      "The approximate solution at time $t_n$ is $u_n$, and the numerical solution of the differential equation consists of computing a sequence of approximate solutions by the following formula, based on Equation (10):\n",
      "\n",
      "$$u_{n+1} = u_n + \\Delta t \\,f(u_n).$$\n",
      "\n",
      "This formula is called **Euler's method**.\n",
      "\n",
      "For the equations of the phugoid oscillation, Euler's method gives the following algorithm that we need to implement in code:\n",
      "\n",
      "\\begin{align}\n",
      "z_{n+1} & = z_n + \\Delta t \\, v_n \\\\\n",
      "v_{n+1} & = v_n + \\Delta t \\left(g - \\frac{g}{z_t} \\, z_n \\right).\n",
      "\\end{align}"
     ]
    },
    {
     "cell_type": "heading",
     "level": 3,
     "metadata": {},
     "source": [
      "And solve!"
     ]
    },
    {
     "cell_type": "markdown",
     "metadata": {},
     "source": [
      "To apply the numerical solution method, we need to set things up in code: define the parameter values needed in the model, initialize a NumPy array to hold the discrete solution values, and initialize another array for the angular values."
     ]
    },
    {
     "cell_type": "code",
     "collapsed": false,
     "input": [
      "# initial conditions\n",
      "z0 = 100.  #altitude\n",
      "v  = 20   #upward velocity resulting from gust\n",
      "zt = 100.\n",
      "g  = 9.81\n",
      "\n",
      "u = numpy.array([z0, v])\n",
      "\n",
      "# initialize an array to hold the changing angle values\n",
      "z = numpy.zeros(N)\n",
      "z[0] = z0  "
     ],
     "language": "python",
     "metadata": {},
     "outputs": [],
     "prompt_number": 7
    },
    {
     "cell_type": "markdown",
     "metadata": {},
     "source": [
      "You should pay attention to a couple of things: (1) See how there is a dot after the numbers used to define our parameters? We just want to be explicit (as a good habit) that these variables are real numbers, called \"floats.\" (2) We both _created_ and _initialized_ with zeros everywhere the solution vector `z`. Look up the documentation for the handy NumPy function `zeros()`, if you need to. (3) In the last line above, we assign the _initial value_ to the first element of the solution vector: `z[0]`.\n",
      "\n",
      "Now we can step in time using Euler's method. Notice how we are time stepping the two independend variables at once in the time iterations."
     ]
    },
    {
     "cell_type": "code",
     "collapsed": false,
     "input": [
      "# time-loop using Euler's method\n",
      "for n in range(1,N):\n",
      "    u = u + dt*numpy.array([u[1], g*(1-u[0]/zt)])\n",
      "    z[n] = u[0]"
     ],
     "language": "python",
     "metadata": {},
     "outputs": [],
     "prompt_number": 8
    },
    {
     "cell_type": "markdown",
     "metadata": {},
     "source": [
      "Make sure you understand what this code is doing. This is a basic pattern in numerical methods: iterations in a time variable that apply a numerical scheme at each step."
     ]
    },
    {
     "cell_type": "heading",
     "level": 2,
     "metadata": {},
     "source": [
      "Plot the solution"
     ]
    },
    {
     "cell_type": "markdown",
     "metadata": {},
     "source": [
      "If the code is correct, we have stored in the array `z` the position of the glider at each time. Let's use Matplotlib to examine the flight path of the arcraft.\n",
      "\n",
      "You should explore the [Matplotlib tutorial](http://matplotlib.org/users/pyplot_tutorial.html) (if you need to) and familiarize yourself with the command-style functions that control the size, labels, line style, and so on. Creating good plots is a useful skill: it is about communicating your results effectively. \n",
      "\n",
      "Here, we set the figure size, the limits of the vertical axis, the format of tick-marks, and axis labels. The final line actually produces the plot, with our chosen line style (continuous black line)."
     ]
    },
    {
     "cell_type": "code",
     "collapsed": false,
     "input": [
      "plt.figure(figsize=(10,4))   #set plot size\n",
      "plt.ylim(40,160)             #y-axis plot limits\n",
      "plt.tick_params(axis='both', labelsize=14) #increase font size for ticks\n",
      "plt.xlabel('t', fontsize=14) #x label\n",
      "plt.ylabel('z', fontsize=14) #y label\n",
      "plt.plot(t,z, 'k-');"
     ],
     "language": "python",
     "metadata": {},
     "outputs": [
      {
       "metadata": {},
       "output_type": "display_data",
       "png": "[encoded data removed]",
       "text": [
        "<matplotlib.figure.Figure at 0x1074151d0>"
       ]
      }
     ],
     "prompt_number": 9
    },
    {
     "cell_type": "heading",
     "level": 5,
     "metadata": {},
     "source": [
      "Explore and think"
     ]
    },
    {
     "cell_type": "markdown",
     "metadata": {},
     "source": [
      "Try changing the value of `v` in the initial conditions.  \n",
      "\n",
      "* What happens when you have a larger gust?  \n",
      "* What about a smaller gust?  \n",
      "* What happens if there isn't a gust (`v = 0`)?"
     ]
    },
    {
     "cell_type": "heading",
     "level": 2,
     "metadata": {},
     "source": [
      "Exact solution"
     ]
    },
    {
     "cell_type": "markdown",
     "metadata": {},
     "source": [
      "The equation for phugoid oscillations is a 2nd-order, linear ODE and it has an exact solution of the following form:\n",
      "\n",
      "$$\n",
      "\\begin{equation}\n",
      "z(t) = A \\sin \\left(\\sqrt{\\frac{g}{z_t}} t \\right) + B \\cos \\left(\\sqrt{\\frac{g}{z_t}} t \\right) + z_t\n",
      "\\end{equation}\n",
      "$$\n",
      "\n",
      "where $A$ and $B$ are constants that we solve for using initial conditions.  "
     ]
    },
    {
     "cell_type": "markdown",
     "metadata": {},
     "source": [
      "Our numerical solution used the initial conditions:\n",
      "\n",
      "$$\\begin{eqnarray}\n",
      "z(0) = z_0 \\\\\n",
      "v(0) = v_0\n",
      "\\end{eqnarray}$$\n",
      "\n",
      "Applying these to the exact solution and solving for $A$ and $B$, we get:\n",
      "\n",
      "$$\\begin{equation}\n",
      "z(t) = v_0 \\sqrt{\\frac{z_t}{g}} \\sin \\left(\\sqrt{\\frac{g}{z_t}} t \\right) + (z_0-z_t) \\cos \\left(\\sqrt{\\frac{g}{z_t}} t \\right) + z_t\n",
      "\\end{equation}$$"
     ]
    },
    {
     "cell_type": "markdown",
     "metadata": {},
     "source": [
      "We already defined all of these variables for our numerical solution, so we can immediately compute the exact solution. "
     ]
    },
    {
     "cell_type": "heading",
     "level": 5,
     "metadata": {},
     "source": [
      "Pro tip:"
     ]
    },
    {
     "cell_type": "markdown",
     "metadata": {},
     "source": [
      "The expression is a  bit long \u2014if you don't feel like scrolling left and right, you can insert a line break in the code using a backslash '\\' _(without any trailing spaces)_ and Python will treat the next line as a continuation of the first."
     ]
    },
    {
     "cell_type": "code",
     "collapsed": false,
     "input": [
      "z_exact = v*(zt/g)**.5*numpy.sin((g/zt)**.5*t)+\\\n",
      "            (z0-zt)*numpy.cos((g/zt)**.5*t)+zt"
     ],
     "language": "python",
     "metadata": {},
     "outputs": [],
     "prompt_number": 27
    },
    {
     "cell_type": "heading",
     "level": 2,
     "metadata": {},
     "source": [
      "Plot the exact solution"
     ]
    },
    {
     "cell_type": "markdown",
     "metadata": {},
     "source": [
      "Now we can plot our exact solution!  Even better, we can plot _both_ the numerical solution *and* the exact solution to see how well Euler's method approximated the phugoid oscillations.\n",
      "\n",
      "To add another curve to a plot, simply type a second `plt.plot()` statement.  We also added a legend using the format\n",
      "\n",
      "```Python\n",
      "plt.legend([\"line 1\",\"line 2\"])\n",
      "```"
     ]
    },
    {
     "cell_type": "code",
     "collapsed": false,
     "input": [
      "plt.figure(figsize=(10,4))\n",
      "plt.ylim(40,160)             #y-axis plot limits\n",
      "plt.tick_params(axis='both', labelsize=14) #increase font size for ticks\n",
      "plt.xlabel('t', fontsize=14) #x label\n",
      "plt.ylabel('z', fontsize=14) #y label\n",
      "plt.plot(t,z)\n",
      "plt.plot(t, z_exact)\n",
      "plt.legend(['Numerical Solution','Analytical Solution']);"
     ],
     "language": "python",
     "metadata": {},
     "outputs": [
      {
       "metadata": {},
       "output_type": "display_data",
       "png": "[encoded data removed]",
       "text": [
        "<matplotlib.figure.Figure at 0x107b533d0>"
       ]
      }
     ],
     "prompt_number": 28
    },
    {
     "cell_type": "markdown",
     "metadata": {},
     "source": [
      "That looks like pretty good agreement, but what's happening towards the end? We'll come back to this.\n",
      "\n",
      "Euler's method, like all numerical methods, introduces some errors.  If the method is *convergent*, the approximation will get closer and closer to the exact solution as we reduce the size of the step, $\\Delta t$. The error in the numerical method should tend to zero, in fact, when $\\Delta t\\rightarrow 0$\u2014when this happens, we call the method _consistent_. We'll define these terms more carefully in the theory components of this course. "
     ]
    },
    {
     "cell_type": "heading",
     "level": 2,
     "metadata": {},
     "source": [
      "Convergence"
     ]
    },
    {
     "cell_type": "markdown",
     "metadata": {},
     "source": [
      "To compare the two solutions, we need to use a **norm** of the difference, like the $L_1$ norm, for example.\n",
      "\n",
      "$$ E = \\Delta t \\sum_{n=0}^N \\left|z(t_n) - z_n\\right|$$\n",
      "\n",
      "The $L_1$ norm is the sum of the individual differences between the exact and the numerical solutions, at each mesh point.\n",
      "\n",
      "We check for convergence by calculating the numerical solution using progressively smaller values of `dt`. We already have most of the code that we need.  We just need to add an extra loop and an array of different $\\Delta t$ values to iterate through.  \n",
      "\n",
      "You should read the documentation for the function [enumerate](https://docs.python.org/2/library/functions.html#enumerate) and make sure you understand how we're using it below."
     ]
    },
    {
     "cell_type": "heading",
     "level": 5,
     "metadata": {},
     "source": [
      "Warning"
     ]
    },
    {
     "cell_type": "markdown",
     "metadata": {},
     "source": [
      "The cell below can take a little while to finish (the last $\\Delta t$ value alone requires 1 million iterations!).  If the cell is still running, the input label will say `In [*]`.  When it finishes, the `*` will be replaced by a number."
     ]
    },
    {
     "cell_type": "code",
     "collapsed": false,
     "input": [
      "# time-increment array\n",
      "dt_values = numpy.array([0.1, 0.05, 0.01, 0.005, 0.001, 0.0001])\n",
      "\n",
      "# array that will contain solution of each grid\n",
      "z_values = numpy.empty_like(dt_values, dtype=numpy.ndarray)\n",
      "\n",
      "for i, dt in enumerate(dt_values):\n",
      "    N = int(T/dt)+1    # number of time-steps\n",
      "    ### discretize the time using numpy.linspace() ###\n",
      "    t = numpy.linspace(0.0, T, N)\n",
      "\n",
      "    # initial conditions\n",
      "    u = numpy.array([z0, v])\n",
      "    z = numpy.empty_like(t)\n",
      "    z[0] = z0\n",
      "    \n",
      "    # time loop - Euler method\n",
      "    for n in range(1,N):\n",
      "        ### compute next solution using Euler method ###\n",
      "        u = u + dt*numpy.array([u[1], g*(1-u[0]/zt)])\n",
      "        z[n] = u[0]   # store the elevation at time-step n+1\n",
      "    \n",
      "    z_values[i] = z.copy()    # store the total elevation calculation grid i"
     ],
     "language": "python",
     "metadata": {},
     "outputs": [],
     "prompt_number": 29
    },
    {
     "cell_type": "heading",
     "level": 3,
     "metadata": {},
     "source": [
      "Calculate the error"
     ]
    },
    {
     "cell_type": "markdown",
     "metadata": {},
     "source": [
      "We now have numerical solutions for each $\\Delta t$ in the array `z_values`.  To calculate the error corresponding to each $\\Delta t$, we can write a function!  "
     ]
    },
    {
     "cell_type": "code",
     "collapsed": false,
     "input": [
      "def get_error(z, dt):\n",
      "    \"\"\"Returns the error relative to analytical solution using L-1 norm.\n",
      "    \n",
      "    Parameters\n",
      "    ----------\n",
      "    z : array of float\n",
      "        numerical solution.\n",
      "    dt : float\n",
      "        time increment.\n",
      "        \n",
      "    Returns\n",
      "    -------\n",
      "    err : float\n",
      "        L_{1} norm of the error with respect to the exact solution.\n",
      "    \"\"\"\n",
      "    N = len(z)\n",
      "    t = numpy.linspace(0.0, T, N)\n",
      "    \n",
      "    z_exact = v*(zt/g)**.5*numpy.sin((g/zt)**.5*t)+\\\n",
      "                (z0-zt)*numpy.cos((g/zt)**.5*t)+zt\n",
      "    \n",
      "    return dt * numpy.sum(numpy.abs(z-z_exact))"
     ],
     "language": "python",
     "metadata": {},
     "outputs": [],
     "prompt_number": 30
    },
    {
     "cell_type": "markdown",
     "metadata": {},
     "source": [
      "**Note**: in the last line of the function, we perform an 'array operation': \n",
      "\n",
      "`z - z_exact`\n",
      "\n",
      "We are *not* subtracting one value from another.  Instead, we are taking the difference between elements at each corresponding index in both arrays.  Here is a quick example:"
     ]
    },
    {
     "cell_type": "code",
     "collapsed": false,
     "input": [
      "a = numpy.array([1, 2, 3])\n",
      "b = numpy.array([4, 4, 4])\n",
      "\n",
      "b - a"
     ],
     "language": "python",
     "metadata": {},
     "outputs": [
      {
       "metadata": {},
       "output_type": "pyout",
       "prompt_number": 31,
       "text": [
        "array([3, 2, 1])"
       ]
      }
     ],
     "prompt_number": 31
    },
    {
     "cell_type": "markdown",
     "metadata": {},
     "source": [
      "Now, we iterate through each $\\Delta t$ value and calculate the corresponding error.  "
     ]
    },
    {
     "cell_type": "code",
     "collapsed": false,
     "input": [
      "error_values = numpy.empty_like(dt_values)\n",
      "\n",
      "for i, dt in enumerate(dt_values):\n",
      "    ### call the function get_error() ###\n",
      "    error_values[i] = get_error(z_values[i], dt)"
     ],
     "language": "python",
     "metadata": {},
     "outputs": [],
     "prompt_number": 32
    },
    {
     "cell_type": "markdown",
     "metadata": {},
     "source": [
      "Remember, *if* the method is convergent then the error should get smaller as  $\\Delta t$ gets smaller.  To visualize this, let's plot $\\Delta t$ vs. error.  If you use `plt.plot` you won't get a very useful result.  Instead, use `plt.loglog` to create the same plot with a log-log scale.  This is what we do almost always to assess the errors of a numerical scheme graphically."
     ]
    },
    {
     "cell_type": "code",
     "collapsed": false,
     "input": [
      "plt.figure(figsize=(10, 6))\n",
      "plt.tick_params(axis='both', labelsize=14) #increase tick font size\n",
      "plt.grid(True)                         #turn on grid lines\n",
      "plt.xlabel('$\\Delta t$', fontsize=16)  #x label\n",
      "plt.ylabel('Error', fontsize=16)       #y label\n",
      "plt.loglog(dt_values, error_values, 'ko-')  #log-log plot\n",
      "plt.axis('equal')                      #make axes scale equally;"
     ],
     "language": "python",
     "metadata": {},
     "outputs": [
      {
       "metadata": {},
       "output_type": "display_data",
       "png": "[encoded data removed]",
       "text": [
        "<matplotlib.figure.Figure at 0x39e7310>"
       ]
      }
     ],
     "prompt_number": 26
    },
    {
     "cell_type": "markdown",
     "metadata": {},
     "source": [
      "This is the kind of result we like to see!  As $\\Delta t$ shrinks (towards the left), the error gets smaller and smaller, like it should."
     ]
    },
    {
     "cell_type": "heading",
     "level": 5,
     "metadata": {},
     "source": [
      "Challenge!"
     ]
    },
    {
     "cell_type": "markdown",
     "metadata": {},
     "source": [
      "We calculated the error for several different timestep sizes using two nested `for` loops.  That worked, but whenever possible, we like to re-use code (and not just copy and paste it!).  \n",
      "\n",
      "Create a function that implements Euler's method and re-write the error analysis cell to use your function."
     ]
    },
    {
     "cell_type": "markdown",
     "metadata": {},
     "source": [
      "---\n",
      "\n",
      "######The cell below loads the style of this notebook."
     ]
    },
    {
     "cell_type": "code",
     "collapsed": false,
     "input": [
      "from IPython.core.display import HTML\n",
      "css_file = '../../styles/numericalmoocstyle.css'\n",
      "HTML(open(css_file, \"r\").read())"
     ],
     "language": "python",
     "metadata": {},
     "outputs": [
      {
       "html": [
        "<link href='http://fonts.googleapis.com/css?family=Alegreya+Sans:100,300,400,500,700,800,900,100italic,300italic,400italic,500italic,700italic,800italic,900italic' rel='stylesheet' type='text/css'>\n",
        "<link href='http://fonts.googleapis.com/css?family=Arvo:400,700,400italic' rel='stylesheet' type='text/css'>\n",
        "<link href='http://fonts.googleapis.com/css?family=PT+Mono' rel='stylesheet' type='text/css'>\n",
        "<link href='http://fonts.googleapis.com/css?family=Shadows+Into+Light' rel='stylesheet' type='text/css'>\n",
        "<link href='http://fonts.googleapis.com/css?family=Nixie+One' rel='stylesheet' type='text/css'>\n",
        "<style>\n",
        "\n",
        "@font-face {\n",
        "    font-family: \"Computer Modern\";\n",
        "    src: url('http://mirrors.ctan.org/fonts/cm-unicode/fonts/otf/cmunss.otf');\n",
        "}\n",
        "\n",
        "#notebook_panel { /* main background */\n",
        "    background: rgb(245,245,245);\n",
        "}\n",
        "\n",
        "div.cell { /* set cell width */\n",
        "    width: 750px;\n",
        "}\n",
        "\n",
        "div #notebook { /* centre the content */\n",
        "    background: #fff; /* white background for content */\n",
        "    width: 1000px;\n",
        "    margin: auto;\n",
        "    padding-left: 0em;\n",
        "}\n",
        "\n",
        "#notebook li { /* More space between bullet points */\n",
        "margin-top:0.8em;\n",
        "}\n",
        "\n",
        "/* draw border around running cells */\n",
        "div.cell.border-box-sizing.code_cell.running { \n",
        "    border: 1px solid #111;\n",
        "}\n",
        "\n",
        "/* Put a solid color box around each cell and its output, visually linking them*/\n",
        "div.cell.code_cell {\n",
        "    background-color: rgb(256,256,256); \n",
        "    border-radius: 0px; \n",
        "    padding: 0.5em;\n",
        "    margin-left:1em;\n",
        "    margin-top: 1em;\n",
        "}\n",
        "\n",
        "div.text_cell_render{\n",
        "    font-family: 'Alegreya Sans' sans-serif;\n",
        "    line-height: 140%;\n",
        "    font-size: 125%;\n",
        "    font-weight: 400;\n",
        "    width:600px;\n",
        "    margin-left:auto;\n",
        "    margin-right:auto;\n",
        "}\n",
        "\n",
        "\n",
        "/* Formatting for header cells */\n",
        ".text_cell_render h1 {\n",
        "    font-family: 'Nixie One', serif;\n",
        "    font-style:regular;\n",
        "    font-weight: 400;    \n",
        "    font-size: 45pt;\n",
        "    line-height: 100%;\n",
        "    color: rgb(0,51,102);\n",
        "    margin-bottom: 0.5em;\n",
        "    margin-top: 0.5em;\n",
        "    display: block;\n",
        "}\t\n",
        ".text_cell_render h2 {\n",
        "    font-family: 'Nixie One', serif;\n",
        "    font-weight: 400;\n",
        "    font-size: 30pt;\n",
        "    line-height: 100%;\n",
        "    color: rgb(0,51,102);\n",
        "    margin-bottom: 0.1em;\n",
        "    margin-top: 0.3em;\n",
        "    display: block;\n",
        "}\t\n",
        "\n",
        ".text_cell_render h3 {\n",
        "    font-family: 'Nixie One', serif;\n",
        "    margin-top:16px;\n",
        "\tfont-size: 22pt;\n",
        "    font-weight: 600;\n",
        "    margin-bottom: 3px;\n",
        "    font-style: regular;\n",
        "    color: rgb(102,102,0);\n",
        "}\n",
        "\n",
        ".text_cell_render h4 {    /*Use this for captions*/\n",
        "    font-family: 'Nixie One', serif;\n",
        "    font-size: 14pt;\n",
        "    text-align: center;\n",
        "    margin-top: 0em;\n",
        "    margin-bottom: 2em;\n",
        "    font-style: regular;\n",
        "}\n",
        "\n",
        ".text_cell_render h5 {  /*Use this for small titles*/\n",
        "    font-family: 'Nixie One', sans-serif;\n",
        "    font-weight: 400;\n",
        "    font-size: 16pt;\n",
        "    color: rgb(163,0,0);\n",
        "    font-style: italic;\n",
        "    margin-bottom: .1em;\n",
        "    margin-top: 0.8em;\n",
        "    display: block;\n",
        "}\n",
        "\n",
        ".text_cell_render h6 { /*use this for copyright note*/\n",
        "    font-family: 'PT Mono', sans-serif;\n",
        "    font-weight: 300;\n",
        "    font-size: 9pt;\n",
        "    line-height: 100%;\n",
        "    color: grey;\n",
        "    margin-bottom: 1px;\n",
        "    margin-top: 1px;\n",
        "}\n",
        "\n",
        ".CodeMirror{\n",
        "        font-family: \"PT Mono\";\n",
        "        font-size: 90%;\n",
        "}\n",
        "\n",
        "</style>\n",
        "<script>\n",
        "    MathJax.Hub.Config({\n",
        "                        TeX: {\n",
        "                           extensions: [\"AMSmath.js\"],\n",
        "                           equationNumbers: { autoNumber: \"AMS\", useLabelIds: true}\n",
        "                           },\n",
        "                tex2jax: {\n",
        "                    inlineMath: [ ['$','$'], [\"\\\\(\",\"\\\\)\"] ],\n",
        "                    displayMath: [ ['$$','$$'], [\"\\\\[\",\"\\\\]\"] ]\n",
        "                },\n",
        "                displayAlign: 'center', // Change this to 'center' to center equations.\n",
        "                \"HTML-CSS\": {\n",
        "                    styles: {'.MathJax_Display': {\"margin\": 4}}\n",
        "                }\n",
        "        });\n",
        "</script>\n"
       ],
       "metadata": {},
       "output_type": "pyout",
       "prompt_number": 1,
       "text": [
        "<IPython.core.display.HTML at 0x10484e810>"
       ]
      }
     ],
     "prompt_number": 1
    },
    {
     "cell_type": "code",
     "collapsed": false,
     "input": [],
     "language": "python",
     "metadata": {},
     "outputs": []
    }
   ],
   "metadata": {}
  }
 ]
}